{
 "cells": [
  {
   "cell_type": "code",
   "execution_count": 76,
   "metadata": {},
   "outputs": [],
   "source": [
    "import pandas as pd\n",
    "import numpy as np"
   ]
  },
  {
   "cell_type": "code",
   "execution_count": 77,
   "metadata": {},
   "outputs": [],
   "source": [
    "superficie = pd.read_csv(\"/Users/antoinekrainc/Downloads/drive-download-20190227T071746Z-001/superficie.csv\", header = None)\n",
    "nombre_de_sdb = pd.read_csv(\"/Users/antoinekrainc/Downloads/drive-download-20190227T071746Z-001/nombre_de_sdb.csv\", header= None)\n",
    "nombre_de_chambres = pd.read_csv(\"/Users/antoinekrainc/Downloads/drive-download-20190227T071746Z-001/nombre_de_chambres.csv\", header=None)\n",
    "prices = pd.read_csv(\"/Users/antoinekrainc/Downloads/drive-download-20190227T071746Z-001/house_price.csv\")\n",
    "\n",
    "\n",
    "\n"
   ]
  },
  {
   "cell_type": "code",
   "execution_count": 78,
   "metadata": {},
   "outputs": [],
   "source": [
    "superficie = superficie.rename(columns={0:\"id\", 1:\"superficie\"})\n",
    "nombre_de_sdb = nombre_de_sdb.rename(columns={0:\"id\", 1:\"nombre_de_sdb\"})\n",
    "nombre_de_chambres = nombre_de_chambres.rename(columns={0:\"id\", 1:\"nombre_de_chambres\"})\n",
    "\n"
   ]
  },
  {
   "cell_type": "code",
   "execution_count": 79,
   "metadata": {},
   "outputs": [
    {
     "data": {
      "text/html": [
       "<div>\n",
       "<style scoped>\n",
       "    .dataframe tbody tr th:only-of-type {\n",
       "        vertical-align: middle;\n",
       "    }\n",
       "\n",
       "    .dataframe tbody tr th {\n",
       "        vertical-align: top;\n",
       "    }\n",
       "\n",
       "    .dataframe thead th {\n",
       "        text-align: right;\n",
       "    }\n",
       "</style>\n",
       "<table border=\"1\" class=\"dataframe\">\n",
       "  <thead>\n",
       "    <tr style=\"text-align: right;\">\n",
       "      <th></th>\n",
       "      <th>id</th>\n",
       "      <th>nombre_de_sdb</th>\n",
       "    </tr>\n",
       "  </thead>\n",
       "  <tbody>\n",
       "    <tr>\n",
       "      <th>0</th>\n",
       "      <td>0</td>\n",
       "      <td>2</td>\n",
       "    </tr>\n",
       "    <tr>\n",
       "      <th>1</th>\n",
       "      <td>1</td>\n",
       "      <td>1</td>\n",
       "    </tr>\n",
       "    <tr>\n",
       "      <th>2</th>\n",
       "      <td>2</td>\n",
       "      <td>1</td>\n",
       "    </tr>\n",
       "    <tr>\n",
       "      <th>3</th>\n",
       "      <td>3</td>\n",
       "      <td>3</td>\n",
       "    </tr>\n",
       "    <tr>\n",
       "      <th>4</th>\n",
       "      <td>4</td>\n",
       "      <td>1</td>\n",
       "    </tr>\n",
       "  </tbody>\n",
       "</table>\n",
       "</div>"
      ],
      "text/plain": [
       "   id  nombre_de_sdb\n",
       "0   0              2\n",
       "1   1              1\n",
       "2   2              1\n",
       "3   3              3\n",
       "4   4              1"
      ]
     },
     "execution_count": 79,
     "metadata": {},
     "output_type": "execute_result"
    }
   ],
   "source": [
    "nombre_de_sdb.head()"
   ]
  },
  {
   "cell_type": "code",
   "execution_count": 80,
   "metadata": {},
   "outputs": [
    {
     "data": {
      "text/html": [
       "<div>\n",
       "<style scoped>\n",
       "    .dataframe tbody tr th:only-of-type {\n",
       "        vertical-align: middle;\n",
       "    }\n",
       "\n",
       "    .dataframe tbody tr th {\n",
       "        vertical-align: top;\n",
       "    }\n",
       "\n",
       "    .dataframe thead th {\n",
       "        text-align: right;\n",
       "    }\n",
       "</style>\n",
       "<table border=\"1\" class=\"dataframe\">\n",
       "  <thead>\n",
       "    <tr style=\"text-align: right;\">\n",
       "      <th></th>\n",
       "      <th>id</th>\n",
       "      <th>superficie</th>\n",
       "      <th>id</th>\n",
       "      <th>nombre_de_sdb</th>\n",
       "      <th>id</th>\n",
       "      <th>nombre_de_chambres</th>\n",
       "      <th>Unnamed: 0</th>\n",
       "      <th>id</th>\n",
       "      <th>house_price</th>\n",
       "    </tr>\n",
       "  </thead>\n",
       "  <tbody>\n",
       "    <tr>\n",
       "      <th>0</th>\n",
       "      <td>0</td>\n",
       "      <td>28844</td>\n",
       "      <td>0</td>\n",
       "      <td>2</td>\n",
       "      <td>0</td>\n",
       "      <td>1</td>\n",
       "      <td>0</td>\n",
       "      <td>14</td>\n",
       "      <td>1918154.0</td>\n",
       "    </tr>\n",
       "    <tr>\n",
       "      <th>1</th>\n",
       "      <td>1</td>\n",
       "      <td>27667</td>\n",
       "      <td>1</td>\n",
       "      <td>1</td>\n",
       "      <td>1</td>\n",
       "      <td>4</td>\n",
       "      <td>1</td>\n",
       "      <td>30</td>\n",
       "      <td>739142.0</td>\n",
       "    </tr>\n",
       "    <tr>\n",
       "      <th>2</th>\n",
       "      <td>2</td>\n",
       "      <td>14742</td>\n",
       "      <td>2</td>\n",
       "      <td>1</td>\n",
       "      <td>2</td>\n",
       "      <td>1</td>\n",
       "      <td>2</td>\n",
       "      <td>70</td>\n",
       "      <td>1621938.0</td>\n",
       "    </tr>\n",
       "    <tr>\n",
       "      <th>3</th>\n",
       "      <td>3</td>\n",
       "      <td>28089</td>\n",
       "      <td>3</td>\n",
       "      <td>3</td>\n",
       "      <td>3</td>\n",
       "      <td>4</td>\n",
       "      <td>3</td>\n",
       "      <td>77</td>\n",
       "      <td>1319862.0</td>\n",
       "    </tr>\n",
       "    <tr>\n",
       "      <th>4</th>\n",
       "      <td>4</td>\n",
       "      <td>11713</td>\n",
       "      <td>4</td>\n",
       "      <td>1</td>\n",
       "      <td>4</td>\n",
       "      <td>2</td>\n",
       "      <td>4</td>\n",
       "      <td>50</td>\n",
       "      <td>146250.0</td>\n",
       "    </tr>\n",
       "  </tbody>\n",
       "</table>\n",
       "</div>"
      ],
      "text/plain": [
       "   id  superficie  id  nombre_de_sdb  id  nombre_de_chambres  Unnamed: 0  id  \\\n",
       "0   0       28844   0              2   0                   1           0  14   \n",
       "1   1       27667   1              1   1                   4           1  30   \n",
       "2   2       14742   2              1   2                   1           2  70   \n",
       "3   3       28089   3              3   3                   4           3  77   \n",
       "4   4       11713   4              1   4                   2           4  50   \n",
       "\n",
       "   house_price  \n",
       "0    1918154.0  \n",
       "1     739142.0  \n",
       "2    1621938.0  \n",
       "3    1319862.0  \n",
       "4     146250.0  "
      ]
     },
     "execution_count": 80,
     "metadata": {},
     "output_type": "execute_result"
    }
   ],
   "source": [
    "pd.concat([superficie, nombre_de_sdb, nombre_de_chambres, prices], axis=1).head()"
   ]
  },
  {
   "cell_type": "code",
   "execution_count": 81,
   "metadata": {},
   "outputs": [
    {
     "data": {
      "text/html": [
       "<div>\n",
       "<style scoped>\n",
       "    .dataframe tbody tr th:only-of-type {\n",
       "        vertical-align: middle;\n",
       "    }\n",
       "\n",
       "    .dataframe tbody tr th {\n",
       "        vertical-align: top;\n",
       "    }\n",
       "\n",
       "    .dataframe thead th {\n",
       "        text-align: right;\n",
       "    }\n",
       "</style>\n",
       "<table border=\"1\" class=\"dataframe\">\n",
       "  <thead>\n",
       "    <tr style=\"text-align: right;\">\n",
       "      <th></th>\n",
       "      <th>id</th>\n",
       "      <th>superficie</th>\n",
       "      <th>nombre_de_sdb</th>\n",
       "      <th>nombre_de_chambres</th>\n",
       "      <th>Unnamed: 0</th>\n",
       "      <th>house_price</th>\n",
       "    </tr>\n",
       "  </thead>\n",
       "  <tbody>\n",
       "    <tr>\n",
       "      <th>0</th>\n",
       "      <td>0</td>\n",
       "      <td>28844</td>\n",
       "      <td>2</td>\n",
       "      <td>1</td>\n",
       "      <td>32</td>\n",
       "      <td>1421908.0</td>\n",
       "    </tr>\n",
       "    <tr>\n",
       "      <th>1</th>\n",
       "      <td>1</td>\n",
       "      <td>27667</td>\n",
       "      <td>1</td>\n",
       "      <td>4</td>\n",
       "      <td>71</td>\n",
       "      <td>1305091.0</td>\n",
       "    </tr>\n",
       "    <tr>\n",
       "      <th>2</th>\n",
       "      <td>2</td>\n",
       "      <td>14742</td>\n",
       "      <td>1</td>\n",
       "      <td>1</td>\n",
       "      <td>65</td>\n",
       "      <td>164373.0</td>\n",
       "    </tr>\n",
       "    <tr>\n",
       "      <th>3</th>\n",
       "      <td>3</td>\n",
       "      <td>28089</td>\n",
       "      <td>3</td>\n",
       "      <td>4</td>\n",
       "      <td>88</td>\n",
       "      <td>1441714.0</td>\n",
       "    </tr>\n",
       "    <tr>\n",
       "      <th>4</th>\n",
       "      <td>4</td>\n",
       "      <td>11713</td>\n",
       "      <td>1</td>\n",
       "      <td>2</td>\n",
       "      <td>49</td>\n",
       "      <td>108290.0</td>\n",
       "    </tr>\n",
       "  </tbody>\n",
       "</table>\n",
       "</div>"
      ],
      "text/plain": [
       "   id  superficie  nombre_de_sdb  nombre_de_chambres  Unnamed: 0  house_price\n",
       "0   0       28844              2                   1          32    1421908.0\n",
       "1   1       27667              1                   4          71    1305091.0\n",
       "2   2       14742              1                   1          65     164373.0\n",
       "3   3       28089              3                   4          88    1441714.0\n",
       "4   4       11713              1                   2          49     108290.0"
      ]
     },
     "execution_count": 81,
     "metadata": {},
     "output_type": "execute_result"
    }
   ],
   "source": [
    "dataset = superficie.merge(nombre_de_sdb, left_on=\"id\", right_on=\"id\").merge(nombre_de_chambres,on=\"id\").merge(prices, on=\"id\")\n",
    "dataset.head()"
   ]
  },
  {
   "cell_type": "code",
   "execution_count": 82,
   "metadata": {},
   "outputs": [],
   "source": [
    "dataset = pd.concat([dataset.iloc[:, :-2], dataset.iloc[:,-1]], axis=1)"
   ]
  },
  {
   "cell_type": "code",
   "execution_count": 83,
   "metadata": {},
   "outputs": [
    {
     "data": {
      "text/plain": [
       "20439.77"
      ]
     },
     "execution_count": 83,
     "metadata": {},
     "output_type": "execute_result"
    }
   ],
   "source": [
    "dataset.superficie.mean()"
   ]
  },
  {
   "cell_type": "code",
   "execution_count": 84,
   "metadata": {},
   "outputs": [
    {
     "data": {
      "text/html": [
       "<div>\n",
       "<style scoped>\n",
       "    .dataframe tbody tr th:only-of-type {\n",
       "        vertical-align: middle;\n",
       "    }\n",
       "\n",
       "    .dataframe tbody tr th {\n",
       "        vertical-align: top;\n",
       "    }\n",
       "\n",
       "    .dataframe thead th {\n",
       "        text-align: right;\n",
       "    }\n",
       "</style>\n",
       "<table border=\"1\" class=\"dataframe\">\n",
       "  <thead>\n",
       "    <tr style=\"text-align: right;\">\n",
       "      <th></th>\n",
       "      <th>id</th>\n",
       "      <th>superficie</th>\n",
       "      <th>nombre_de_sdb</th>\n",
       "      <th>house_price</th>\n",
       "    </tr>\n",
       "    <tr>\n",
       "      <th>nombre_de_chambres</th>\n",
       "      <th></th>\n",
       "      <th></th>\n",
       "      <th></th>\n",
       "      <th></th>\n",
       "    </tr>\n",
       "  </thead>\n",
       "  <tbody>\n",
       "    <tr>\n",
       "      <th>1</th>\n",
       "      <td>52.260870</td>\n",
       "      <td>22798.695652</td>\n",
       "      <td>1.869565</td>\n",
       "      <td>980774.869565</td>\n",
       "    </tr>\n",
       "    <tr>\n",
       "      <th>2</th>\n",
       "      <td>57.387097</td>\n",
       "      <td>19001.483871</td>\n",
       "      <td>2.000000</td>\n",
       "      <td>642086.258065</td>\n",
       "    </tr>\n",
       "    <tr>\n",
       "      <th>3</th>\n",
       "      <td>44.555556</td>\n",
       "      <td>19538.037037</td>\n",
       "      <td>2.037037</td>\n",
       "      <td>645904.592593</td>\n",
       "    </tr>\n",
       "    <tr>\n",
       "      <th>4</th>\n",
       "      <td>40.315789</td>\n",
       "      <td>21212.315789</td>\n",
       "      <td>1.894737</td>\n",
       "      <td>888045.631579</td>\n",
       "    </tr>\n",
       "  </tbody>\n",
       "</table>\n",
       "</div>"
      ],
      "text/plain": [
       "                           id    superficie  nombre_de_sdb    house_price\n",
       "nombre_de_chambres                                                       \n",
       "1                   52.260870  22798.695652       1.869565  980774.869565\n",
       "2                   57.387097  19001.483871       2.000000  642086.258065\n",
       "3                   44.555556  19538.037037       2.037037  645904.592593\n",
       "4                   40.315789  21212.315789       1.894737  888045.631579"
      ]
     },
     "execution_count": 84,
     "metadata": {},
     "output_type": "execute_result"
    }
   ],
   "source": [
    "dataset.groupby(\"nombre_de_chambres\").mean()"
   ]
  },
  {
   "cell_type": "code",
   "execution_count": 85,
   "metadata": {},
   "outputs": [
    {
     "data": {
      "text/plain": [
       "(100, 5)"
      ]
     },
     "execution_count": 85,
     "metadata": {},
     "output_type": "execute_result"
    }
   ],
   "source": [
    "dataset.shape"
   ]
  },
  {
   "cell_type": "code",
   "execution_count": 86,
   "metadata": {},
   "outputs": [
    {
     "data": {
      "text/plain": [
       "767747.87"
      ]
     },
     "execution_count": 86,
     "metadata": {},
     "output_type": "execute_result"
    }
   ],
   "source": [
    "dataset.house_price.mean()"
   ]
  },
  {
   "cell_type": "code",
   "execution_count": 87,
   "metadata": {},
   "outputs": [
    {
     "data": {
      "text/plain": [
       "id                        28.196095\n",
       "superficie              5387.422486\n",
       "nombre_de_sdb              0.814881\n",
       "nombre_de_chambres         0.000000\n",
       "house_price           664318.109295\n",
       "dtype: float64"
      ]
     },
     "execution_count": 87,
     "metadata": {},
     "output_type": "execute_result"
    }
   ],
   "source": [
    "dataset[dataset.loc[:,\"nombre_de_chambres\"]==1].std()"
   ]
  },
  {
   "cell_type": "code",
   "execution_count": 88,
   "metadata": {},
   "outputs": [
    {
     "data": {
      "text/plain": [
       "id                        52.260870\n",
       "superficie             22798.695652\n",
       "nombre_de_sdb              1.869565\n",
       "nombre_de_chambres         1.000000\n",
       "house_price           980774.869565\n",
       "dtype: float64"
      ]
     },
     "execution_count": 88,
     "metadata": {},
     "output_type": "execute_result"
    }
   ],
   "source": [
    "dataset[dataset.loc[:,\"nombre_de_chambres\"]==1].mean()"
   ]
  },
  {
   "cell_type": "code",
   "execution_count": 89,
   "metadata": {},
   "outputs": [
    {
     "data": {
      "text/html": [
       "<div>\n",
       "<style scoped>\n",
       "    .dataframe tbody tr th:only-of-type {\n",
       "        vertical-align: middle;\n",
       "    }\n",
       "\n",
       "    .dataframe tbody tr th {\n",
       "        vertical-align: top;\n",
       "    }\n",
       "\n",
       "    .dataframe thead th {\n",
       "        text-align: right;\n",
       "    }\n",
       "</style>\n",
       "<table border=\"1\" class=\"dataframe\">\n",
       "  <thead>\n",
       "    <tr style=\"text-align: right;\">\n",
       "      <th></th>\n",
       "      <th>id</th>\n",
       "      <th>superficie</th>\n",
       "      <th>nombre_de_sdb</th>\n",
       "      <th>house_price</th>\n",
       "    </tr>\n",
       "    <tr>\n",
       "      <th>nombre_de_chambres</th>\n",
       "      <th></th>\n",
       "      <th></th>\n",
       "      <th></th>\n",
       "      <th></th>\n",
       "    </tr>\n",
       "  </thead>\n",
       "  <tbody>\n",
       "    <tr>\n",
       "      <th>1</th>\n",
       "      <td>53.882353</td>\n",
       "      <td>22955.117647</td>\n",
       "      <td>1.823529</td>\n",
       "      <td>847546.117647</td>\n",
       "    </tr>\n",
       "    <tr>\n",
       "      <th>2</th>\n",
       "      <td>59.851852</td>\n",
       "      <td>19423.740741</td>\n",
       "      <td>1.925926</td>\n",
       "      <td>656395.000000</td>\n",
       "    </tr>\n",
       "    <tr>\n",
       "      <th>3</th>\n",
       "      <td>41.550000</td>\n",
       "      <td>20623.650000</td>\n",
       "      <td>2.050000</td>\n",
       "      <td>644955.400000</td>\n",
       "    </tr>\n",
       "    <tr>\n",
       "      <th>4</th>\n",
       "      <td>38.375000</td>\n",
       "      <td>20039.875000</td>\n",
       "      <td>2.000000</td>\n",
       "      <td>700004.437500</td>\n",
       "    </tr>\n",
       "  </tbody>\n",
       "</table>\n",
       "</div>"
      ],
      "text/plain": [
       "                           id    superficie  nombre_de_sdb    house_price\n",
       "nombre_de_chambres                                                       \n",
       "1                   53.882353  22955.117647       1.823529  847546.117647\n",
       "2                   59.851852  19423.740741       1.925926  656395.000000\n",
       "3                   41.550000  20623.650000       2.050000  644955.400000\n",
       "4                   38.375000  20039.875000       2.000000  700004.437500"
      ]
     },
     "execution_count": 89,
     "metadata": {},
     "output_type": "execute_result"
    }
   ],
   "source": [
    "dataset[(dataset.house_price >dataset.house_price.quantile(.1)) & (dataset.house_price <dataset.house_price.quantile(.9))].groupby(\"nombre_de_chambres\").mean()"
   ]
  },
  {
   "cell_type": "code",
   "execution_count": 90,
   "metadata": {},
   "outputs": [
    {
     "data": {
      "text/plain": [
       "1965263"
      ]
     },
     "execution_count": 90,
     "metadata": {},
     "output_type": "execute_result"
    }
   ],
   "source": [
    "int(dataset.query(\"nombre_de_chambres == 1\").quantile(0.9).house_price)"
   ]
  },
  {
   "cell_type": "code",
   "execution_count": 91,
   "metadata": {},
   "outputs": [
    {
     "data": {
      "text/plain": [
       "id                         89.1\n",
       "superficie              28235.0\n",
       "nombre_de_sdb               3.0\n",
       "nombre_de_chambres          4.0\n",
       "house_price           1744842.7\n",
       "Name: 0.9, dtype: float64"
      ]
     },
     "execution_count": 91,
     "metadata": {},
     "output_type": "execute_result"
    }
   ],
   "source": [
    "dataset.quantile(0.9)"
   ]
  },
  {
   "cell_type": "code",
   "execution_count": 96,
   "metadata": {},
   "outputs": [
    {
     "data": {
      "text/plain": [
       "<matplotlib.axes._subplots.AxesSubplot at 0x1a22c09358>"
      ]
     },
     "execution_count": 96,
     "metadata": {},
     "output_type": "execute_result"
    },
    {
     "data": {
      "image/png": "[encoded data removed]",
      "text/plain": [
       "<Figure size 432x288 with 1 Axes>"
      ]
     },
     "metadata": {
      "needs_background": "light"
     },
     "output_type": "display_data"
    }
   ],
   "source": [
    "dataset.plot.scatter(x=\"superficie\", y=\"house_price\")"
   ]
  },
  {
   "cell_type": "code",
   "execution_count": 98,
   "metadata": {},
   "outputs": [
    {
     "data": {
      "text/plain": [
       "0     Très Grande\n",
       "1     Très Grande\n",
       "2          Petite\n",
       "3     Très Grande\n",
       "4          Petite\n",
       "5     Très Grande\n",
       "6         Moyenne\n",
       "7     Très Grande\n",
       "8         Moyenne\n",
       "9          Petite\n",
       "10    Très Grande\n",
       "11         Grande\n",
       "12    Très Grande\n",
       "13         Petite\n",
       "14    Très Grande\n",
       "15         Petite\n",
       "16         Grande\n",
       "17    Très Grande\n",
       "18        Moyenne\n",
       "19         Grande\n",
       "20         Grande\n",
       "21        Moyenne\n",
       "22         Petite\n",
       "23         Petite\n",
       "24    Très Grande\n",
       "25         Petite\n",
       "26        Moyenne\n",
       "27         Petite\n",
       "28    Très Grande\n",
       "29         Grande\n",
       "         ...     \n",
       "70    Très Grande\n",
       "71        Moyenne\n",
       "72         Petite\n",
       "73    Très Grande\n",
       "74         Grande\n",
       "75        Moyenne\n",
       "76        Moyenne\n",
       "77    Très Grande\n",
       "78        Moyenne\n",
       "79        Moyenne\n",
       "80    Très Grande\n",
       "81    Très Grande\n",
       "82         Petite\n",
       "83         Grande\n",
       "84         Grande\n",
       "85         Grande\n",
       "86         Petite\n",
       "87    Très Grande\n",
       "88         Petite\n",
       "89         Grande\n",
       "90         Grande\n",
       "91         Petite\n",
       "92         Petite\n",
       "93        Moyenne\n",
       "94         Grande\n",
       "95         Petite\n",
       "96         Petite\n",
       "97        Moyenne\n",
       "98         Grande\n",
       "99         Petite\n",
       "Name: superficie, Length: 100, dtype: object"
      ]
     },
     "execution_count": 98,
     "metadata": {},
     "output_type": "execute_result"
    }
   ],
   "source": [
    "# Methode Lambda\n",
    "dataset.superficie.apply(lambda x: \"Très Grande\" if x>25000 \n",
    "                         else \"Grande\" if x>20000\n",
    "                         else \"Moyenne\" if x>15000\n",
    "                         else \"Petite\")"
   ]
  },
  {
   "cell_type": "code",
   "execution_count": null,
   "metadata": {},
   "outputs": [],
   "source": [
    "dataset[\"superficie_cat\"] = dataset.superficie\n",
    "dataset.loc[dataset.superficie < 10000, \"superficie_cat\"] = \"tres_petit\"\n",
    "dataset.loc[dataset.superficie.between(10000, 15000), \"superficie_cat\"] = \"petit\"\n",
    "dataset.loc[dataset.superficie.between(15000, 20000), \"superficie_cat\"] = \"moyen\"\n",
    "dataset.loc[dataset.superficie.between(20000, 25000), \"superficie_cat\"] = \"grand\"\n",
    "dataset.loc[dataset.superficie > 25000, \"superficie_cat\"] = \"tres_grand\""
   ]
  },
  {
   "cell_type": "code",
   "execution_count": null,
   "metadata": {},
   "outputs": [],
   "source": [
    "data[\"sup_cat\"] = \"None\"\n",
    "\n",
    "for i in range(len(data.Superficie)):\n",
    "    if float(data.Superficie[i]) < 10000:\n",
    "            data.sup_cat[i] = \"petite\"\n",
    "    elif float(data.Superficie[i]) > 10000 and float(data.Superficie[i]) <20000:\n",
    "            data.sup_cat[i] = \"moyenne\"\n",
    "    elif float(data.Superficie[i]) > 20000 and float(data.Superficie[i]) <25000:\n",
    "            data.sup_cat[i] = \"grande\"\n",
    "    else: \n",
    "            data.sup_cat[i] = \"très grande\""
   ]
  },
  {
   "cell_type": "code",
   "execution_count": 99,
   "metadata": {},
   "outputs": [],
   "source": [
    "labels = [\"P\",\"M\",\"G\",\"TG\"]\n",
    "\n",
    "dataset[\"categorie_superficie\"] = pd.cut(dataset.superficie,\n",
    "                                         [0,15000,20000,25000,100000], \n",
    "                                         right=False, \n",
    "                                         labels=labels)"
   ]
  },
  {
   "cell_type": "code",
   "execution_count": 104,
   "metadata": {},
   "outputs": [
    {
     "data": {
      "text/plain": [
       "<matplotlib.axes._subplots.AxesSubplot at 0x1a22dbeeb8>"
      ]
     },
     "execution_count": 104,
     "metadata": {},
     "output_type": "execute_result"
    },
    {
     "data": {
      "image/png": "[encoded data removed]",
      "text/plain": [
       "<Figure size 432x288 with 1 Axes>"
      ]
     },
     "metadata": {
      "needs_background": "light"
     },
     "output_type": "display_data"
    }
   ],
   "source": [
    "dataset.boxplot(column=[\"house_price\"], by=\"categorie_superficie\")"
   ]
  },
  {
   "cell_type": "code",
   "execution_count": 105,
   "metadata": {},
   "outputs": [
    {
     "data": {
      "text/html": [
       "<div>\n",
       "<style scoped>\n",
       "    .dataframe tbody tr th:only-of-type {\n",
       "        vertical-align: middle;\n",
       "    }\n",
       "\n",
       "    .dataframe tbody tr th {\n",
       "        vertical-align: top;\n",
       "    }\n",
       "\n",
       "    .dataframe thead th {\n",
       "        text-align: right;\n",
       "    }\n",
       "</style>\n",
       "<table border=\"1\" class=\"dataframe\">\n",
       "  <thead>\n",
       "    <tr style=\"text-align: right;\">\n",
       "      <th></th>\n",
       "      <th>id</th>\n",
       "      <th>superficie</th>\n",
       "      <th>nombre_de_sdb</th>\n",
       "      <th>nombre_de_chambres</th>\n",
       "      <th>house_price</th>\n",
       "    </tr>\n",
       "  </thead>\n",
       "  <tbody>\n",
       "    <tr>\n",
       "      <th>id</th>\n",
       "      <td>1.000000</td>\n",
       "      <td>-0.114809</td>\n",
       "      <td>-0.046393</td>\n",
       "      <td>-0.181707</td>\n",
       "      <td>-0.152129</td>\n",
       "    </tr>\n",
       "    <tr>\n",
       "      <th>superficie</th>\n",
       "      <td>-0.114809</td>\n",
       "      <td>1.000000</td>\n",
       "      <td>0.009749</td>\n",
       "      <td>-0.076368</td>\n",
       "      <td>0.876803</td>\n",
       "    </tr>\n",
       "    <tr>\n",
       "      <th>nombre_de_sdb</th>\n",
       "      <td>-0.046393</td>\n",
       "      <td>0.009749</td>\n",
       "      <td>1.000000</td>\n",
       "      <td>0.020199</td>\n",
       "      <td>0.060142</td>\n",
       "    </tr>\n",
       "    <tr>\n",
       "      <th>nombre_de_chambres</th>\n",
       "      <td>-0.181707</td>\n",
       "      <td>-0.076368</td>\n",
       "      <td>0.020199</td>\n",
       "      <td>1.000000</td>\n",
       "      <td>-0.057291</td>\n",
       "    </tr>\n",
       "    <tr>\n",
       "      <th>house_price</th>\n",
       "      <td>-0.152129</td>\n",
       "      <td>0.876803</td>\n",
       "      <td>0.060142</td>\n",
       "      <td>-0.057291</td>\n",
       "      <td>1.000000</td>\n",
       "    </tr>\n",
       "  </tbody>\n",
       "</table>\n",
       "</div>"
      ],
      "text/plain": [
       "                          id  superficie  nombre_de_sdb  nombre_de_chambres  \\\n",
       "id                  1.000000   -0.114809      -0.046393           -0.181707   \n",
       "superficie         -0.114809    1.000000       0.009749           -0.076368   \n",
       "nombre_de_sdb      -0.046393    0.009749       1.000000            0.020199   \n",
       "nombre_de_chambres -0.181707   -0.076368       0.020199            1.000000   \n",
       "house_price        -0.152129    0.876803       0.060142           -0.057291   \n",
       "\n",
       "                    house_price  \n",
       "id                    -0.152129  \n",
       "superficie             0.876803  \n",
       "nombre_de_sdb          0.060142  \n",
       "nombre_de_chambres    -0.057291  \n",
       "house_price            1.000000  "
      ]
     },
     "execution_count": 105,
     "metadata": {},
     "output_type": "execute_result"
    }
   ],
   "source": [
    "dataset.corr()"
   ]
  },
  {
   "cell_type": "code",
   "execution_count": null,
   "metadata": {},
   "outputs": [],
   "source": []
  }
 ],
 "metadata": {
  "kernelspec": {
   "display_name": "Python 3",
   "language": "python",
   "name": "python3"
  },
  "language_info": {
   "codemirror_mode": {
    "name": "ipython",
    "version": 3
   },
   "file_extension": ".py",
   "mimetype": "text/x-python",
   "name": "python",
   "nbconvert_exporter": "python",
   "pygments_lexer": "ipython3",
   "version": "3.6.6"
  }
 },
 "nbformat": 4,
 "nbformat_minor": 2
}
