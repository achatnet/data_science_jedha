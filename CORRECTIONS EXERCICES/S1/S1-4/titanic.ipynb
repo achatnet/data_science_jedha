{
  "cells": [
    {
      "metadata": {
        "_uuid": "8f2839f25d086af736a60e9eeb907d3b93b6e0e5",
        "_cell_guid": "b1076dfc-b9ad-4769-8c92-a6c4dae69d19",
        "trusted": true
      },
      "cell_type": "code",
      "source": "# This Python 3 environment comes with many helpful analytics libraries installed\n# It is defined by the kaggle/python docker image: https://github.com/kaggle/docker-python\n# For example, here's several helpful packages to load in \n\nimport numpy as np # linear algebra\nimport pandas as pd # data processing, CSV file I/O (e.g. pd.read_csv)\n\n# Input data files are available in the \"../input/\" directory.\n# For example, running this (by clicking run or pressing Shift+Enter) will list the files in the input directory\n\nimport os\nprint(os.listdir(\"../input\"))\n\n# Any results you write to the current directory are saved as output.",
      "execution_count": 342,
      "outputs": [
        {
          "output_type": "stream",
          "text": "['gender_submission.csv', 'test.csv', 'train.csv']\n",
          "name": "stdout"
        }
      ]
    },
    {
      "metadata": {
        "_cell_guid": "79c7e3d0-c299-4dcb-8224-4455121ee9b0",
        "_uuid": "d629ff2d2480ee46fbb7e2d37f6b5fab8052498a",
        "trusted": true
      },
      "cell_type": "code",
      "source": "dataset = pd.read_csv(\"../input/train.csv\")",
      "execution_count": 343,
      "outputs": []
    },
    {
      "metadata": {
        "trusted": true,
        "_uuid": "c87574fa6a2bf3aa956678066eac72d080c42c57"
      },
      "cell_type": "code",
      "source": "dataset.head()",
      "execution_count": 344,
      "outputs": [
        {
          "output_type": "execute_result",
          "execution_count": 344,
          "data": {
            "text/plain": "   PassengerId  Survived  Pclass    ...        Fare Cabin  Embarked\n0            1         0       3    ...      7.2500   NaN         S\n1            2         1       1    ...     71.2833   C85         C\n2            3         1       3    ...      7.9250   NaN         S\n3            4         1       1    ...     53.1000  C123         S\n4            5         0       3    ...      8.0500   NaN         S\n\n[5 rows x 12 columns]",
            "text/html": "<div>\n<style scoped>\n    .dataframe tbody tr th:only-of-type {\n        vertical-align: middle;\n    }\n\n    .dataframe tbody tr th {\n        vertical-align: top;\n    }\n\n    .dataframe thead th {\n        text-align: right;\n    }\n</style>\n<table border=\"1\" class=\"dataframe\">\n  <thead>\n    <tr style=\"text-align: right;\">\n      <th></th>\n      <th>PassengerId</th>\n      <th>Survived</th>\n      <th>Pclass</th>\n      <th>Name</th>\n      <th>Sex</th>\n      <th>Age</th>\n      <th>SibSp</th>\n      <th>Parch</th>\n      <th>Ticket</th>\n      <th>Fare</th>\n      <th>Cabin</th>\n      <th>Embarked</th>\n    </tr>\n  </thead>\n  <tbody>\n    <tr>\n      <th>0</th>\n      <td>1</td>\n      <td>0</td>\n      <td>3</td>\n      <td>Braund, Mr. Owen Harris</td>\n      <td>male</td>\n      <td>22.0</td>\n      <td>1</td>\n      <td>0</td>\n      <td>A/5 21171</td>\n      <td>7.2500</td>\n      <td>NaN</td>\n      <td>S</td>\n    </tr>\n    <tr>\n      <th>1</th>\n      <td>2</td>\n      <td>1</td>\n      <td>1</td>\n      <td>Cumings, Mrs. John Bradley (Florence Briggs Th...</td>\n      <td>female</td>\n      <td>38.0</td>\n      <td>1</td>\n      <td>0</td>\n      <td>PC 17599</td>\n      <td>71.2833</td>\n      <td>C85</td>\n      <td>C</td>\n    </tr>\n    <tr>\n      <th>2</th>\n      <td>3</td>\n      <td>1</td>\n      <td>3</td>\n      <td>Heikkinen, Miss. Laina</td>\n      <td>female</td>\n      <td>26.0</td>\n      <td>0</td>\n      <td>0</td>\n      <td>STON/O2. 3101282</td>\n      <td>7.9250</td>\n      <td>NaN</td>\n      <td>S</td>\n    </tr>\n    <tr>\n      <th>3</th>\n      <td>4</td>\n      <td>1</td>\n      <td>1</td>\n      <td>Futrelle, Mrs. Jacques Heath (Lily May Peel)</td>\n      <td>female</td>\n      <td>35.0</td>\n      <td>1</td>\n      <td>0</td>\n      <td>113803</td>\n      <td>53.1000</td>\n      <td>C123</td>\n      <td>S</td>\n    </tr>\n    <tr>\n      <th>4</th>\n      <td>5</td>\n      <td>0</td>\n      <td>3</td>\n      <td>Allen, Mr. William Henry</td>\n      <td>male</td>\n      <td>35.0</td>\n      <td>0</td>\n      <td>0</td>\n      <td>373450</td>\n      <td>8.0500</td>\n      <td>NaN</td>\n      <td>S</td>\n    </tr>\n  </tbody>\n</table>\n</div>"
          },
          "metadata": {}
        }
      ]
    },
    {
      "metadata": {
        "trusted": true,
        "_uuid": "cf5647c3762173e90e2c58bc4c401068906e1ce6"
      },
      "cell_type": "code",
      "source": "dataset.groupby([\"Sex\", \"Pclass\"])[\"Age\"].mean()",
      "execution_count": 345,
      "outputs": [
        {
          "output_type": "execute_result",
          "execution_count": 345,
          "data": {
            "text/plain": "Sex     Pclass\nfemale  1         34.611765\n        2         28.722973\n        3         21.750000\nmale    1         41.281386\n        2         30.740707\n        3         26.507589\nName: Age, dtype: float64"
          },
          "metadata": {}
        }
      ]
    },
    {
      "metadata": {
        "trusted": true,
        "_uuid": "593c49799b8459d24360ff2713393d510a9dd274"
      },
      "cell_type": "code",
      "source": "dataset.Age = dataset.groupby(['Pclass','Sex'])['Age'].transform(lambda x: x.fillna(x.mean()))",
      "execution_count": 346,
      "outputs": []
    },
    {
      "metadata": {
        "trusted": true,
        "_uuid": "29ffe6ce218ce21223740f744f2b389cfc4c2bd1"
      },
      "cell_type": "code",
      "source": "dataset.Age.isnull().any()",
      "execution_count": 347,
      "outputs": [
        {
          "output_type": "execute_result",
          "execution_count": 347,
          "data": {
            "text/plain": "False"
          },
          "metadata": {}
        }
      ]
    },
    {
      "metadata": {
        "trusted": true,
        "_uuid": "3946c1d904fd856ce5b90f60a4575edebdcd2ddd"
      },
      "cell_type": "code",
      "source": "dataset[\"Cabin\"]=dataset[\"Cabin\"].apply(lambda x: \"U\" if x != x else x[0])",
      "execution_count": 348,
      "outputs": []
    },
    {
      "metadata": {
        "trusted": true,
        "_uuid": "ec5e323b5e15be76783202efcb94c51c27829fe2"
      },
      "cell_type": "code",
      "source": "pd.get_dummies(dataset.loc[:, ~dataset.columns.isin([\"Ticket\", \"Name\"])]).groupby(\"Sex_female\").mean()",
      "execution_count": 349,
      "outputs": [
        {
          "output_type": "execute_result",
          "execution_count": 349,
          "data": {
            "text/plain": "            PassengerId  Survived     ...      Embarked_Q  Embarked_S\nSex_female                            ...                            \n0            454.147314  0.188908     ...        0.071057    0.764298\n1            431.028662  0.742038     ...        0.114650    0.646497\n\n[2 rows x 20 columns]",
            "text/html": "<div>\n<style scoped>\n    .dataframe tbody tr th:only-of-type {\n        vertical-align: middle;\n    }\n\n    .dataframe tbody tr th {\n        vertical-align: top;\n    }\n\n    .dataframe thead th {\n        text-align: right;\n    }\n</style>\n<table border=\"1\" class=\"dataframe\">\n  <thead>\n    <tr style=\"text-align: right;\">\n      <th></th>\n      <th>PassengerId</th>\n      <th>Survived</th>\n      <th>Pclass</th>\n      <th>Age</th>\n      <th>SibSp</th>\n      <th>Parch</th>\n      <th>Fare</th>\n      <th>Sex_male</th>\n      <th>Cabin_A</th>\n      <th>Cabin_B</th>\n      <th>Cabin_C</th>\n      <th>Cabin_D</th>\n      <th>Cabin_E</th>\n      <th>Cabin_F</th>\n      <th>Cabin_G</th>\n      <th>Cabin_T</th>\n      <th>Cabin_U</th>\n      <th>Embarked_C</th>\n      <th>Embarked_Q</th>\n      <th>Embarked_S</th>\n    </tr>\n    <tr>\n      <th>Sex_female</th>\n      <th></th>\n      <th></th>\n      <th></th>\n      <th></th>\n      <th></th>\n      <th></th>\n      <th></th>\n      <th></th>\n      <th></th>\n      <th></th>\n      <th></th>\n      <th></th>\n      <th></th>\n      <th></th>\n      <th></th>\n      <th></th>\n      <th></th>\n      <th></th>\n      <th></th>\n      <th></th>\n    </tr>\n  </thead>\n  <tbody>\n    <tr>\n      <th>0</th>\n      <td>454.147314</td>\n      <td>0.188908</td>\n      <td>2.389948</td>\n      <td>30.423672</td>\n      <td>0.429809</td>\n      <td>0.235702</td>\n      <td>25.523893</td>\n      <td>1.0</td>\n      <td>0.024263</td>\n      <td>0.034662</td>\n      <td>0.055459</td>\n      <td>0.025997</td>\n      <td>0.029463</td>\n      <td>0.013865</td>\n      <td>0.000000</td>\n      <td>0.001733</td>\n      <td>0.814558</td>\n      <td>0.164645</td>\n      <td>0.071057</td>\n      <td>0.764298</td>\n    </tr>\n    <tr>\n      <th>1</th>\n      <td>431.028662</td>\n      <td>0.742038</td>\n      <td>2.159236</td>\n      <td>27.288063</td>\n      <td>0.694268</td>\n      <td>0.649682</td>\n      <td>44.479818</td>\n      <td>0.0</td>\n      <td>0.003185</td>\n      <td>0.085987</td>\n      <td>0.085987</td>\n      <td>0.057325</td>\n      <td>0.047771</td>\n      <td>0.015924</td>\n      <td>0.012739</td>\n      <td>0.000000</td>\n      <td>0.691083</td>\n      <td>0.232484</td>\n      <td>0.114650</td>\n      <td>0.646497</td>\n    </tr>\n  </tbody>\n</table>\n</div>"
          },
          "metadata": {}
        }
      ]
    },
    {
      "metadata": {
        "trusted": true,
        "_uuid": "ec49a61510cd4bc6cffa85684426d5aef40ce4af"
      },
      "cell_type": "code",
      "source": "dataset[dataset.Embarked.isnull()]",
      "execution_count": 350,
      "outputs": [
        {
          "output_type": "execute_result",
          "execution_count": 350,
          "data": {
            "text/plain": "     PassengerId  Survived  Pclass    ...     Fare Cabin  Embarked\n61            62         1       1    ...     80.0     B       NaN\n829          830         1       1    ...     80.0     B       NaN\n\n[2 rows x 12 columns]",
            "text/html": "<div>\n<style scoped>\n    .dataframe tbody tr th:only-of-type {\n        vertical-align: middle;\n    }\n\n    .dataframe tbody tr th {\n        vertical-align: top;\n    }\n\n    .dataframe thead th {\n        text-align: right;\n    }\n</style>\n<table border=\"1\" class=\"dataframe\">\n  <thead>\n    <tr style=\"text-align: right;\">\n      <th></th>\n      <th>PassengerId</th>\n      <th>Survived</th>\n      <th>Pclass</th>\n      <th>Name</th>\n      <th>Sex</th>\n      <th>Age</th>\n      <th>SibSp</th>\n      <th>Parch</th>\n      <th>Ticket</th>\n      <th>Fare</th>\n      <th>Cabin</th>\n      <th>Embarked</th>\n    </tr>\n  </thead>\n  <tbody>\n    <tr>\n      <th>61</th>\n      <td>62</td>\n      <td>1</td>\n      <td>1</td>\n      <td>Icard, Miss. Amelie</td>\n      <td>female</td>\n      <td>38.0</td>\n      <td>0</td>\n      <td>0</td>\n      <td>113572</td>\n      <td>80.0</td>\n      <td>B</td>\n      <td>NaN</td>\n    </tr>\n    <tr>\n      <th>829</th>\n      <td>830</td>\n      <td>1</td>\n      <td>1</td>\n      <td>Stone, Mrs. George Nelson (Martha Evelyn)</td>\n      <td>female</td>\n      <td>62.0</td>\n      <td>0</td>\n      <td>0</td>\n      <td>113572</td>\n      <td>80.0</td>\n      <td>B</td>\n      <td>NaN</td>\n    </tr>\n  </tbody>\n</table>\n</div>"
          },
          "metadata": {}
        }
      ]
    },
    {
      "metadata": {
        "trusted": true,
        "_uuid": "40be69e328d59a60cce574edb0d9b1458e325f42"
      },
      "cell_type": "code",
      "source": "dataset.loc[dataset.Embarked.isnull(), \"Embarked\"] = \"U\"",
      "execution_count": 351,
      "outputs": []
    },
    {
      "metadata": {
        "trusted": true,
        "_uuid": "7ae010e7a28bb5405a96540d31be5e1e9c990b05"
      },
      "cell_type": "code",
      "source": "dataset.Name = dataset.Name.apply(lambda x: x.split(\",\")[1].split(\".\")[0])",
      "execution_count": 352,
      "outputs": []
    },
    {
      "metadata": {
        "trusted": true,
        "_uuid": "9b860f728aeee59bf31eb91d08f7e4f59bda7720"
      },
      "cell_type": "code",
      "source": "dataset.groupby(\"Name\").count()",
      "execution_count": 353,
      "outputs": [
        {
          "output_type": "execute_result",
          "execution_count": 353,
          "data": {
            "text/plain": "               PassengerId  Survived  Pclass    ...     Fare  Cabin  Embarked\nName                                            ...                          \n Capt                    1         1       1    ...        1      1         1\n Col                     2         2       2    ...        2      2         2\n Don                     1         1       1    ...        1      1         1\n Dr                      7         7       7    ...        7      7         7\n Jonkheer                1         1       1    ...        1      1         1\n Lady                    1         1       1    ...        1      1         1\n Major                   2         2       2    ...        2      2         2\n Master                 40        40      40    ...       40     40        40\n Miss                  182       182     182    ...      182    182       182\n Mlle                    2         2       2    ...        2      2         2\n Mme                     1         1       1    ...        1      1         1\n Mr                    517       517     517    ...      517    517       517\n Mrs                   125       125     125    ...      125    125       125\n Ms                      1         1       1    ...        1      1         1\n Rev                     6         6       6    ...        6      6         6\n Sir                     1         1       1    ...        1      1         1\n the Countess            1         1       1    ...        1      1         1\n\n[17 rows x 11 columns]",
            "text/html": "<div>\n<style scoped>\n    .dataframe tbody tr th:only-of-type {\n        vertical-align: middle;\n    }\n\n    .dataframe tbody tr th {\n        vertical-align: top;\n    }\n\n    .dataframe thead th {\n        text-align: right;\n    }\n</style>\n<table border=\"1\" class=\"dataframe\">\n  <thead>\n    <tr style=\"text-align: right;\">\n      <th></th>\n      <th>PassengerId</th>\n      <th>Survived</th>\n      <th>Pclass</th>\n      <th>Sex</th>\n      <th>Age</th>\n      <th>SibSp</th>\n      <th>Parch</th>\n      <th>Ticket</th>\n      <th>Fare</th>\n      <th>Cabin</th>\n      <th>Embarked</th>\n    </tr>\n    <tr>\n      <th>Name</th>\n      <th></th>\n      <th></th>\n      <th></th>\n      <th></th>\n      <th></th>\n      <th></th>\n      <th></th>\n      <th></th>\n      <th></th>\n      <th></th>\n      <th></th>\n    </tr>\n  </thead>\n  <tbody>\n    <tr>\n      <th>Capt</th>\n      <td>1</td>\n      <td>1</td>\n      <td>1</td>\n      <td>1</td>\n      <td>1</td>\n      <td>1</td>\n      <td>1</td>\n      <td>1</td>\n      <td>1</td>\n      <td>1</td>\n      <td>1</td>\n    </tr>\n    <tr>\n      <th>Col</th>\n      <td>2</td>\n      <td>2</td>\n      <td>2</td>\n      <td>2</td>\n      <td>2</td>\n      <td>2</td>\n      <td>2</td>\n      <td>2</td>\n      <td>2</td>\n      <td>2</td>\n      <td>2</td>\n    </tr>\n    <tr>\n      <th>Don</th>\n      <td>1</td>\n      <td>1</td>\n      <td>1</td>\n      <td>1</td>\n      <td>1</td>\n      <td>1</td>\n      <td>1</td>\n      <td>1</td>\n      <td>1</td>\n      <td>1</td>\n      <td>1</td>\n    </tr>\n    <tr>\n      <th>Dr</th>\n      <td>7</td>\n      <td>7</td>\n      <td>7</td>\n      <td>7</td>\n      <td>7</td>\n      <td>7</td>\n      <td>7</td>\n      <td>7</td>\n      <td>7</td>\n      <td>7</td>\n      <td>7</td>\n    </tr>\n    <tr>\n      <th>Jonkheer</th>\n      <td>1</td>\n      <td>1</td>\n      <td>1</td>\n      <td>1</td>\n      <td>1</td>\n      <td>1</td>\n      <td>1</td>\n      <td>1</td>\n      <td>1</td>\n      <td>1</td>\n      <td>1</td>\n    </tr>\n    <tr>\n      <th>Lady</th>\n      <td>1</td>\n      <td>1</td>\n      <td>1</td>\n      <td>1</td>\n      <td>1</td>\n      <td>1</td>\n      <td>1</td>\n      <td>1</td>\n      <td>1</td>\n      <td>1</td>\n      <td>1</td>\n    </tr>\n    <tr>\n      <th>Major</th>\n      <td>2</td>\n      <td>2</td>\n      <td>2</td>\n      <td>2</td>\n      <td>2</td>\n      <td>2</td>\n      <td>2</td>\n      <td>2</td>\n      <td>2</td>\n      <td>2</td>\n      <td>2</td>\n    </tr>\n    <tr>\n      <th>Master</th>\n      <td>40</td>\n      <td>40</td>\n      <td>40</td>\n      <td>40</td>\n      <td>40</td>\n      <td>40</td>\n      <td>40</td>\n      <td>40</td>\n      <td>40</td>\n      <td>40</td>\n      <td>40</td>\n    </tr>\n    <tr>\n      <th>Miss</th>\n      <td>182</td>\n      <td>182</td>\n      <td>182</td>\n      <td>182</td>\n      <td>182</td>\n      <td>182</td>\n      <td>182</td>\n      <td>182</td>\n      <td>182</td>\n      <td>182</td>\n      <td>182</td>\n    </tr>\n    <tr>\n      <th>Mlle</th>\n      <td>2</td>\n      <td>2</td>\n      <td>2</td>\n      <td>2</td>\n      <td>2</td>\n      <td>2</td>\n      <td>2</td>\n      <td>2</td>\n      <td>2</td>\n      <td>2</td>\n      <td>2</td>\n    </tr>\n    <tr>\n      <th>Mme</th>\n      <td>1</td>\n      <td>1</td>\n      <td>1</td>\n      <td>1</td>\n      <td>1</td>\n      <td>1</td>\n      <td>1</td>\n      <td>1</td>\n      <td>1</td>\n      <td>1</td>\n      <td>1</td>\n    </tr>\n    <tr>\n      <th>Mr</th>\n      <td>517</td>\n      <td>517</td>\n      <td>517</td>\n      <td>517</td>\n      <td>517</td>\n      <td>517</td>\n      <td>517</td>\n      <td>517</td>\n      <td>517</td>\n      <td>517</td>\n      <td>517</td>\n    </tr>\n    <tr>\n      <th>Mrs</th>\n      <td>125</td>\n      <td>125</td>\n      <td>125</td>\n      <td>125</td>\n      <td>125</td>\n      <td>125</td>\n      <td>125</td>\n      <td>125</td>\n      <td>125</td>\n      <td>125</td>\n      <td>125</td>\n    </tr>\n    <tr>\n      <th>Ms</th>\n      <td>1</td>\n      <td>1</td>\n      <td>1</td>\n      <td>1</td>\n      <td>1</td>\n      <td>1</td>\n      <td>1</td>\n      <td>1</td>\n      <td>1</td>\n      <td>1</td>\n      <td>1</td>\n    </tr>\n    <tr>\n      <th>Rev</th>\n      <td>6</td>\n      <td>6</td>\n      <td>6</td>\n      <td>6</td>\n      <td>6</td>\n      <td>6</td>\n      <td>6</td>\n      <td>6</td>\n      <td>6</td>\n      <td>6</td>\n      <td>6</td>\n    </tr>\n    <tr>\n      <th>Sir</th>\n      <td>1</td>\n      <td>1</td>\n      <td>1</td>\n      <td>1</td>\n      <td>1</td>\n      <td>1</td>\n      <td>1</td>\n      <td>1</td>\n      <td>1</td>\n      <td>1</td>\n      <td>1</td>\n    </tr>\n    <tr>\n      <th>the Countess</th>\n      <td>1</td>\n      <td>1</td>\n      <td>1</td>\n      <td>1</td>\n      <td>1</td>\n      <td>1</td>\n      <td>1</td>\n      <td>1</td>\n      <td>1</td>\n      <td>1</td>\n      <td>1</td>\n    </tr>\n  </tbody>\n</table>\n</div>"
          },
          "metadata": {}
        }
      ]
    },
    {
      "metadata": {
        "trusted": true,
        "_uuid": "541ed6040d3a260f89d2fc3cef6e3e9d470e146a"
      },
      "cell_type": "code",
      "source": "for rare in [\"Lady\",\"Capt\", \"Col\", \"Don\", \"Dr\", \"Jonkheer\", \"Major\", \"Rev\", \"Sir\", \"the Countess\"]:\n    dataset.Name = dataset.Name.str.replace(rare, \"Rare\")",
      "execution_count": 354,
      "outputs": []
    },
    {
      "metadata": {
        "trusted": true,
        "_uuid": "085c40adedb27c91bc7dbcc5e3bd46a71df5e02d"
      },
      "cell_type": "code",
      "source": "dataset.Name = dataset.Name.str.replace(\"Mlle\", \"Ms\")\ndataset.Name = dataset.Name.str.replace(\"Mme\", \"Mrs\")\n",
      "execution_count": 355,
      "outputs": []
    },
    {
      "metadata": {
        "trusted": true,
        "_uuid": "6d7dd75dd0dfe05f8feb2c63259d6f7e45fb4bcc"
      },
      "cell_type": "code",
      "source": "dataset.groupby(\"Name\").mean()",
      "execution_count": 356,
      "outputs": [
        {
          "output_type": "execute_result",
          "execution_count": 356,
          "data": {
            "text/plain": "         PassengerId  Survived    ...         Parch       Fare\nName                              ...                         \n Master   414.975000  0.575000    ...      1.375000  34.703125\n Miss     408.884615  0.697802    ...      0.549451  43.797873\n Mr       454.499033  0.156673    ...      0.152805  24.441560\n Mrs      452.500000  0.793651    ...      0.825397  45.330290\n Ms       599.000000  1.000000    ...      0.000000  43.934733\n Rare     547.043478  0.347826    ...      0.086957  37.169748\n\n[6 rows x 7 columns]",
            "text/html": "<div>\n<style scoped>\n    .dataframe tbody tr th:only-of-type {\n        vertical-align: middle;\n    }\n\n    .dataframe tbody tr th {\n        vertical-align: top;\n    }\n\n    .dataframe thead th {\n        text-align: right;\n    }\n</style>\n<table border=\"1\" class=\"dataframe\">\n  <thead>\n    <tr style=\"text-align: right;\">\n      <th></th>\n      <th>PassengerId</th>\n      <th>Survived</th>\n      <th>Pclass</th>\n      <th>Age</th>\n      <th>SibSp</th>\n      <th>Parch</th>\n      <th>Fare</th>\n    </tr>\n    <tr>\n      <th>Name</th>\n      <th></th>\n      <th></th>\n      <th></th>\n      <th></th>\n      <th></th>\n      <th></th>\n      <th></th>\n    </tr>\n  </thead>\n  <tbody>\n    <tr>\n      <th>Master</th>\n      <td>414.975000</td>\n      <td>0.575000</td>\n      <td>2.625000</td>\n      <td>6.767509</td>\n      <td>2.300000</td>\n      <td>1.375000</td>\n      <td>34.703125</td>\n    </tr>\n    <tr>\n      <th>Miss</th>\n      <td>408.884615</td>\n      <td>0.697802</td>\n      <td>2.307692</td>\n      <td>21.916526</td>\n      <td>0.714286</td>\n      <td>0.549451</td>\n      <td>43.797873</td>\n    </tr>\n    <tr>\n      <th>Mr</th>\n      <td>454.499033</td>\n      <td>0.156673</td>\n      <td>2.410058</td>\n      <td>31.664366</td>\n      <td>0.288201</td>\n      <td>0.152805</td>\n      <td>24.441560</td>\n    </tr>\n    <tr>\n      <th>Mrs</th>\n      <td>452.500000</td>\n      <td>0.793651</td>\n      <td>1.992063</td>\n      <td>34.711461</td>\n      <td>0.690476</td>\n      <td>0.825397</td>\n      <td>45.330290</td>\n    </tr>\n    <tr>\n      <th>Ms</th>\n      <td>599.000000</td>\n      <td>1.000000</td>\n      <td>1.333333</td>\n      <td>25.333333</td>\n      <td>0.000000</td>\n      <td>0.000000</td>\n      <td>43.934733</td>\n    </tr>\n    <tr>\n      <th>Rare</th>\n      <td>547.043478</td>\n      <td>0.347826</td>\n      <td>1.347826</td>\n      <td>45.360060</td>\n      <td>0.347826</td>\n      <td>0.086957</td>\n      <td>37.169748</td>\n    </tr>\n  </tbody>\n</table>\n</div>"
          },
          "metadata": {}
        }
      ]
    },
    {
      "metadata": {
        "trusted": true,
        "_uuid": "a1cde5728be8b09308be5c6deb331d13b6e5e2bf"
      },
      "cell_type": "code",
      "source": "del dataset[\"PassengerId\"]",
      "execution_count": 357,
      "outputs": []
    },
    {
      "metadata": {
        "trusted": true,
        "_uuid": "5e43fe558f7f8934e68f70320238b1fda335a0b7"
      },
      "cell_type": "code",
      "source": "dataset[\"IsAlone\"] = dataset[\"SibSp\"] + dataset[\"Parch\"]\ndataset[\"IsAlone\"] = dataset[\"IsAlone\"].apply(lambda x: 0 if x>0 else 1)",
      "execution_count": 358,
      "outputs": []
    },
    {
      "metadata": {
        "trusted": true,
        "_uuid": "e2ec58e51d1a765549a673123d537f53214d6e7e"
      },
      "cell_type": "code",
      "source": "dataset.head()",
      "execution_count": 359,
      "outputs": [
        {
          "output_type": "execute_result",
          "execution_count": 359,
          "data": {
            "text/plain": "   Survived  Pclass   Name     Sex   ...       Fare  Cabin  Embarked IsAlone\n0         0       3     Mr    male   ...     7.2500      U         S       0\n1         1       1    Mrs  female   ...    71.2833      C         C       0\n2         1       3   Miss  female   ...     7.9250      U         S       1\n3         1       1    Mrs  female   ...    53.1000      C         S       0\n4         0       3     Mr    male   ...     8.0500      U         S       1\n\n[5 rows x 12 columns]",
            "text/html": "<div>\n<style scoped>\n    .dataframe tbody tr th:only-of-type {\n        vertical-align: middle;\n    }\n\n    .dataframe tbody tr th {\n        vertical-align: top;\n    }\n\n    .dataframe thead th {\n        text-align: right;\n    }\n</style>\n<table border=\"1\" class=\"dataframe\">\n  <thead>\n    <tr style=\"text-align: right;\">\n      <th></th>\n      <th>Survived</th>\n      <th>Pclass</th>\n      <th>Name</th>\n      <th>Sex</th>\n      <th>Age</th>\n      <th>SibSp</th>\n      <th>Parch</th>\n      <th>Ticket</th>\n      <th>Fare</th>\n      <th>Cabin</th>\n      <th>Embarked</th>\n      <th>IsAlone</th>\n    </tr>\n  </thead>\n  <tbody>\n    <tr>\n      <th>0</th>\n      <td>0</td>\n      <td>3</td>\n      <td>Mr</td>\n      <td>male</td>\n      <td>22.0</td>\n      <td>1</td>\n      <td>0</td>\n      <td>A/5 21171</td>\n      <td>7.2500</td>\n      <td>U</td>\n      <td>S</td>\n      <td>0</td>\n    </tr>\n    <tr>\n      <th>1</th>\n      <td>1</td>\n      <td>1</td>\n      <td>Mrs</td>\n      <td>female</td>\n      <td>38.0</td>\n      <td>1</td>\n      <td>0</td>\n      <td>PC 17599</td>\n      <td>71.2833</td>\n      <td>C</td>\n      <td>C</td>\n      <td>0</td>\n    </tr>\n    <tr>\n      <th>2</th>\n      <td>1</td>\n      <td>3</td>\n      <td>Miss</td>\n      <td>female</td>\n      <td>26.0</td>\n      <td>0</td>\n      <td>0</td>\n      <td>STON/O2. 3101282</td>\n      <td>7.9250</td>\n      <td>U</td>\n      <td>S</td>\n      <td>1</td>\n    </tr>\n    <tr>\n      <th>3</th>\n      <td>1</td>\n      <td>1</td>\n      <td>Mrs</td>\n      <td>female</td>\n      <td>35.0</td>\n      <td>1</td>\n      <td>0</td>\n      <td>113803</td>\n      <td>53.1000</td>\n      <td>C</td>\n      <td>S</td>\n      <td>0</td>\n    </tr>\n    <tr>\n      <th>4</th>\n      <td>0</td>\n      <td>3</td>\n      <td>Mr</td>\n      <td>male</td>\n      <td>35.0</td>\n      <td>0</td>\n      <td>0</td>\n      <td>373450</td>\n      <td>8.0500</td>\n      <td>U</td>\n      <td>S</td>\n      <td>1</td>\n    </tr>\n  </tbody>\n</table>\n</div>"
          },
          "metadata": {}
        }
      ]
    },
    {
      "metadata": {
        "trusted": true,
        "_uuid": "0002e1bf542bc624dca336f1dbb6d14d73b1e9a9"
      },
      "cell_type": "code",
      "source": "dataset.sum()",
      "execution_count": 360,
      "outputs": [
        {
          "output_type": "execute_result",
          "execution_count": 360,
          "data": {
            "text/plain": "Survived                                                  342\nPclass                                                   2057\nName         Mr Mrs Miss Mrs Mr Mr Mr Master Mrs Mrs Miss ...\nSex         malefemalefemalefemalemalemalemalemalefemalefe...\nAge                                                   26122.9\nSibSp                                                     466\nParch                                                     340\nTicket      A/5 21171PC 17599STON/O2. 31012821138033734503...\nFare                                                  28693.9\nCabin       UCUCUUEUUUGCUUUUUUUUUDUAUUUCUUUBUUUUUUUUUUUUUU...\nEmbarked    SCSSSQSSSCSSSSSSQSSCSSQSSSCSQSCCQSCSCSSCSSCCQS...\nIsAlone                                                   537\ndtype: object"
          },
          "metadata": {}
        }
      ]
    },
    {
      "metadata": {
        "trusted": true,
        "_uuid": "163c78ace2540d2b64b65768e429270ac04cba75"
      },
      "cell_type": "code",
      "source": "dataset[\"Ticket\"][dataset[\"Ticket\"].str[0].between(\"A\", \"Z\")] = \"Letter_Ticket\"\ndataset[\"Ticket\"]=\"No_Letters\"",
      "execution_count": 361,
      "outputs": [
        {
          "output_type": "stream",
          "text": "/opt/conda/lib/python3.6/site-packages/ipykernel_launcher.py:1: SettingWithCopyWarning: \nA value is trying to be set on a copy of a slice from a DataFrame\n\nSee the caveats in the documentation: http://pandas.pydata.org/pandas-docs/stable/indexing.html#indexing-view-versus-copy\n  \"\"\"Entry point for launching an IPython kernel.\n",
          "name": "stderr"
        }
      ]
    },
    {
      "metadata": {
        "trusted": true,
        "_uuid": "642aeffb5cc1000644476e5dbdd2f2b3a47905ed"
      },
      "cell_type": "code",
      "source": "dataset = pd.get_dummies(dataset, drop_first=True)",
      "execution_count": 362,
      "outputs": []
    },
    {
      "metadata": {
        "trusted": true,
        "_uuid": "fba98b9a6d39f64f047a711c7d7e8af28b82cf8c"
      },
      "cell_type": "code",
      "source": "dataset",
      "execution_count": 363,
      "outputs": [
        {
          "output_type": "execute_result",
          "execution_count": 363,
          "data": {
            "text/plain": "     Survived  Pclass        Age     ...      Embarked_Q  Embarked_S  Embarked_U\n0           0       3  22.000000     ...               0           1           0\n1           1       1  38.000000     ...               0           0           0\n2           1       3  26.000000     ...               0           1           0\n3           1       1  35.000000     ...               0           1           0\n4           0       3  35.000000     ...               0           1           0\n5           0       3  26.507589     ...               1           0           0\n6           0       1  54.000000     ...               0           1           0\n7           0       3   2.000000     ...               0           1           0\n8           1       3  27.000000     ...               0           1           0\n9           1       2  14.000000     ...               0           0           0\n10          1       3   4.000000     ...               0           1           0\n11          1       1  58.000000     ...               0           1           0\n12          0       3  20.000000     ...               0           1           0\n13          0       3  39.000000     ...               0           1           0\n14          0       3  14.000000     ...               0           1           0\n15          1       2  55.000000     ...               0           1           0\n16          0       3   2.000000     ...               1           0           0\n17          1       2  30.740707     ...               0           1           0\n18          0       3  31.000000     ...               0           1           0\n19          1       3  21.750000     ...               0           0           0\n20          0       2  35.000000     ...               0           1           0\n21          1       2  34.000000     ...               0           1           0\n22          1       3  15.000000     ...               1           0           0\n23          1       1  28.000000     ...               0           1           0\n24          0       3   8.000000     ...               0           1           0\n25          1       3  38.000000     ...               0           1           0\n26          0       3  26.507589     ...               0           0           0\n27          0       1  19.000000     ...               0           1           0\n28          1       3  21.750000     ...               1           0           0\n29          0       3  26.507589     ...               0           1           0\n..        ...     ...        ...     ...             ...         ...         ...\n861         0       2  21.000000     ...               0           1           0\n862         1       1  48.000000     ...               0           1           0\n863         0       3  21.750000     ...               0           1           0\n864         0       2  24.000000     ...               0           1           0\n865         1       2  42.000000     ...               0           1           0\n866         1       2  27.000000     ...               0           0           0\n867         0       1  31.000000     ...               0           1           0\n868         0       3  26.507589     ...               0           1           0\n869         1       3   4.000000     ...               0           1           0\n870         0       3  26.000000     ...               0           1           0\n871         1       1  47.000000     ...               0           1           0\n872         0       1  33.000000     ...               0           1           0\n873         0       3  47.000000     ...               0           1           0\n874         1       2  28.000000     ...               0           0           0\n875         1       3  15.000000     ...               0           0           0\n876         0       3  20.000000     ...               0           1           0\n877         0       3  19.000000     ...               0           1           0\n878         0       3  26.507589     ...               0           1           0\n879         1       1  56.000000     ...               0           0           0\n880         1       2  25.000000     ...               0           1           0\n881         0       3  33.000000     ...               0           1           0\n882         0       3  22.000000     ...               0           1           0\n883         0       2  28.000000     ...               0           1           0\n884         0       3  25.000000     ...               0           1           0\n885         0       3  39.000000     ...               1           0           0\n886         0       2  27.000000     ...               0           1           0\n887         1       1  19.000000     ...               0           1           0\n888         0       3  21.750000     ...               0           1           0\n889         1       1  26.000000     ...               0           0           0\n890         0       3  32.000000     ...               1           0           0\n\n[891 rows x 24 columns]",
            "text/html": "<div>\n<style scoped>\n    .dataframe tbody tr th:only-of-type {\n        vertical-align: middle;\n    }\n\n    .dataframe tbody tr th {\n        vertical-align: top;\n    }\n\n    .dataframe thead th {\n        text-align: right;\n    }\n</style>\n<table border=\"1\" class=\"dataframe\">\n  <thead>\n    <tr style=\"text-align: right;\">\n      <th></th>\n      <th>Survived</th>\n      <th>Pclass</th>\n      <th>Age</th>\n      <th>SibSp</th>\n      <th>Parch</th>\n      <th>Fare</th>\n      <th>IsAlone</th>\n      <th>Name_ Miss</th>\n      <th>Name_ Mr</th>\n      <th>Name_ Mrs</th>\n      <th>Name_ Ms</th>\n      <th>Name_ Rare</th>\n      <th>Sex_male</th>\n      <th>Cabin_B</th>\n      <th>Cabin_C</th>\n      <th>Cabin_D</th>\n      <th>Cabin_E</th>\n      <th>Cabin_F</th>\n      <th>Cabin_G</th>\n      <th>Cabin_T</th>\n      <th>Cabin_U</th>\n      <th>Embarked_Q</th>\n      <th>Embarked_S</th>\n      <th>Embarked_U</th>\n    </tr>\n  </thead>\n  <tbody>\n    <tr>\n      <th>0</th>\n      <td>0</td>\n      <td>3</td>\n      <td>22.000000</td>\n      <td>1</td>\n      <td>0</td>\n      <td>7.2500</td>\n      <td>0</td>\n      <td>0</td>\n      <td>1</td>\n      <td>0</td>\n      <td>0</td>\n      <td>0</td>\n      <td>1</td>\n      <td>0</td>\n      <td>0</td>\n      <td>0</td>\n      <td>0</td>\n      <td>0</td>\n      <td>0</td>\n      <td>0</td>\n      <td>1</td>\n      <td>0</td>\n      <td>1</td>\n      <td>0</td>\n    </tr>\n    <tr>\n      <th>1</th>\n      <td>1</td>\n      <td>1</td>\n      <td>38.000000</td>\n      <td>1</td>\n      <td>0</td>\n      <td>71.2833</td>\n      <td>0</td>\n      <td>0</td>\n      <td>0</td>\n      <td>1</td>\n      <td>0</td>\n      <td>0</td>\n      <td>0</td>\n      <td>0</td>\n      <td>1</td>\n      <td>0</td>\n      <td>0</td>\n      <td>0</td>\n      <td>0</td>\n      <td>0</td>\n      <td>0</td>\n      <td>0</td>\n      <td>0</td>\n      <td>0</td>\n    </tr>\n    <tr>\n      <th>2</th>\n      <td>1</td>\n      <td>3</td>\n      <td>26.000000</td>\n      <td>0</td>\n      <td>0</td>\n      <td>7.9250</td>\n      <td>1</td>\n      <td>1</td>\n      <td>0</td>\n      <td>0</td>\n      <td>0</td>\n      <td>0</td>\n      <td>0</td>\n      <td>0</td>\n      <td>0</td>\n      <td>0</td>\n      <td>0</td>\n      <td>0</td>\n      <td>0</td>\n      <td>0</td>\n      <td>1</td>\n      <td>0</td>\n      <td>1</td>\n      <td>0</td>\n    </tr>\n    <tr>\n      <th>3</th>\n      <td>1</td>\n      <td>1</td>\n      <td>35.000000</td>\n      <td>1</td>\n      <td>0</td>\n      <td>53.1000</td>\n      <td>0</td>\n      <td>0</td>\n      <td>0</td>\n      <td>1</td>\n      <td>0</td>\n      <td>0</td>\n      <td>0</td>\n      <td>0</td>\n      <td>1</td>\n      <td>0</td>\n      <td>0</td>\n      <td>0</td>\n      <td>0</td>\n      <td>0</td>\n      <td>0</td>\n      <td>0</td>\n      <td>1</td>\n      <td>0</td>\n    </tr>\n    <tr>\n      <th>4</th>\n      <td>0</td>\n      <td>3</td>\n      <td>35.000000</td>\n      <td>0</td>\n      <td>0</td>\n      <td>8.0500</td>\n      <td>1</td>\n      <td>0</td>\n      <td>1</td>\n      <td>0</td>\n      <td>0</td>\n      <td>0</td>\n      <td>1</td>\n      <td>0</td>\n      <td>0</td>\n      <td>0</td>\n      <td>0</td>\n      <td>0</td>\n      <td>0</td>\n      <td>0</td>\n      <td>1</td>\n      <td>0</td>\n      <td>1</td>\n      <td>0</td>\n    </tr>\n    <tr>\n      <th>5</th>\n      <td>0</td>\n      <td>3</td>\n      <td>26.507589</td>\n      <td>0</td>\n      <td>0</td>\n      <td>8.4583</td>\n      <td>1</td>\n      <td>0</td>\n      <td>1</td>\n      <td>0</td>\n      <td>0</td>\n      <td>0</td>\n      <td>1</td>\n      <td>0</td>\n      <td>0</td>\n      <td>0</td>\n      <td>0</td>\n      <td>0</td>\n      <td>0</td>\n      <td>0</td>\n      <td>1</td>\n      <td>1</td>\n      <td>0</td>\n      <td>0</td>\n    </tr>\n    <tr>\n      <th>6</th>\n      <td>0</td>\n      <td>1</td>\n      <td>54.000000</td>\n      <td>0</td>\n      <td>0</td>\n      <td>51.8625</td>\n      <td>1</td>\n      <td>0</td>\n      <td>1</td>\n      <td>0</td>\n      <td>0</td>\n      <td>0</td>\n      <td>1</td>\n      <td>0</td>\n      <td>0</td>\n      <td>0</td>\n      <td>1</td>\n      <td>0</td>\n      <td>0</td>\n      <td>0</td>\n      <td>0</td>\n      <td>0</td>\n      <td>1</td>\n      <td>0</td>\n    </tr>\n    <tr>\n      <th>7</th>\n      <td>0</td>\n      <td>3</td>\n      <td>2.000000</td>\n      <td>3</td>\n      <td>1</td>\n      <td>21.0750</td>\n      <td>0</td>\n      <td>0</td>\n      <td>0</td>\n      <td>0</td>\n      <td>0</td>\n      <td>0</td>\n      <td>1</td>\n      <td>0</td>\n      <td>0</td>\n      <td>0</td>\n      <td>0</td>\n      <td>0</td>\n      <td>0</td>\n      <td>0</td>\n      <td>1</td>\n      <td>0</td>\n      <td>1</td>\n      <td>0</td>\n    </tr>\n    <tr>\n      <th>8</th>\n      <td>1</td>\n      <td>3</td>\n      <td>27.000000</td>\n      <td>0</td>\n      <td>2</td>\n      <td>11.1333</td>\n      <td>0</td>\n      <td>0</td>\n      <td>0</td>\n      <td>1</td>\n      <td>0</td>\n      <td>0</td>\n      <td>0</td>\n      <td>0</td>\n      <td>0</td>\n      <td>0</td>\n      <td>0</td>\n      <td>0</td>\n      <td>0</td>\n      <td>0</td>\n      <td>1</td>\n      <td>0</td>\n      <td>1</td>\n      <td>0</td>\n    </tr>\n    <tr>\n      <th>9</th>\n      <td>1</td>\n      <td>2</td>\n      <td>14.000000</td>\n      <td>1</td>\n      <td>0</td>\n      <td>30.0708</td>\n      <td>0</td>\n      <td>0</td>\n      <td>0</td>\n      <td>1</td>\n      <td>0</td>\n      <td>0</td>\n      <td>0</td>\n      <td>0</td>\n      <td>0</td>\n      <td>0</td>\n      <td>0</td>\n      <td>0</td>\n      <td>0</td>\n      <td>0</td>\n      <td>1</td>\n      <td>0</td>\n      <td>0</td>\n      <td>0</td>\n    </tr>\n    <tr>\n      <th>10</th>\n      <td>1</td>\n      <td>3</td>\n      <td>4.000000</td>\n      <td>1</td>\n      <td>1</td>\n      <td>16.7000</td>\n      <td>0</td>\n      <td>1</td>\n      <td>0</td>\n      <td>0</td>\n      <td>0</td>\n      <td>0</td>\n      <td>0</td>\n      <td>0</td>\n      <td>0</td>\n      <td>0</td>\n      <td>0</td>\n      <td>0</td>\n      <td>1</td>\n      <td>0</td>\n      <td>0</td>\n      <td>0</td>\n      <td>1</td>\n      <td>0</td>\n    </tr>\n    <tr>\n      <th>11</th>\n      <td>1</td>\n      <td>1</td>\n      <td>58.000000</td>\n      <td>0</td>\n      <td>0</td>\n      <td>26.5500</td>\n      <td>1</td>\n      <td>1</td>\n      <td>0</td>\n      <td>0</td>\n      <td>0</td>\n      <td>0</td>\n      <td>0</td>\n      <td>0</td>\n      <td>1</td>\n      <td>0</td>\n      <td>0</td>\n      <td>0</td>\n      <td>0</td>\n      <td>0</td>\n      <td>0</td>\n      <td>0</td>\n      <td>1</td>\n      <td>0</td>\n    </tr>\n    <tr>\n      <th>12</th>\n      <td>0</td>\n      <td>3</td>\n      <td>20.000000</td>\n      <td>0</td>\n      <td>0</td>\n      <td>8.0500</td>\n      <td>1</td>\n      <td>0</td>\n      <td>1</td>\n      <td>0</td>\n      <td>0</td>\n      <td>0</td>\n      <td>1</td>\n      <td>0</td>\n      <td>0</td>\n      <td>0</td>\n      <td>0</td>\n      <td>0</td>\n      <td>0</td>\n      <td>0</td>\n      <td>1</td>\n      <td>0</td>\n      <td>1</td>\n      <td>0</td>\n    </tr>\n    <tr>\n      <th>13</th>\n      <td>0</td>\n      <td>3</td>\n      <td>39.000000</td>\n      <td>1</td>\n      <td>5</td>\n      <td>31.2750</td>\n      <td>0</td>\n      <td>0</td>\n      <td>1</td>\n      <td>0</td>\n      <td>0</td>\n      <td>0</td>\n      <td>1</td>\n      <td>0</td>\n      <td>0</td>\n      <td>0</td>\n      <td>0</td>\n      <td>0</td>\n      <td>0</td>\n      <td>0</td>\n      <td>1</td>\n      <td>0</td>\n      <td>1</td>\n      <td>0</td>\n    </tr>\n    <tr>\n      <th>14</th>\n      <td>0</td>\n      <td>3</td>\n      <td>14.000000</td>\n      <td>0</td>\n      <td>0</td>\n      <td>7.8542</td>\n      <td>1</td>\n      <td>1</td>\n      <td>0</td>\n      <td>0</td>\n      <td>0</td>\n      <td>0</td>\n      <td>0</td>\n      <td>0</td>\n      <td>0</td>\n      <td>0</td>\n      <td>0</td>\n      <td>0</td>\n      <td>0</td>\n      <td>0</td>\n      <td>1</td>\n      <td>0</td>\n      <td>1</td>\n      <td>0</td>\n    </tr>\n    <tr>\n      <th>15</th>\n      <td>1</td>\n      <td>2</td>\n      <td>55.000000</td>\n      <td>0</td>\n      <td>0</td>\n      <td>16.0000</td>\n      <td>1</td>\n      <td>0</td>\n      <td>0</td>\n      <td>1</td>\n      <td>0</td>\n      <td>0</td>\n      <td>0</td>\n      <td>0</td>\n      <td>0</td>\n      <td>0</td>\n      <td>0</td>\n      <td>0</td>\n      <td>0</td>\n      <td>0</td>\n      <td>1</td>\n      <td>0</td>\n      <td>1</td>\n      <td>0</td>\n    </tr>\n    <tr>\n      <th>16</th>\n      <td>0</td>\n      <td>3</td>\n      <td>2.000000</td>\n      <td>4</td>\n      <td>1</td>\n      <td>29.1250</td>\n      <td>0</td>\n      <td>0</td>\n      <td>0</td>\n      <td>0</td>\n      <td>0</td>\n      <td>0</td>\n      <td>1</td>\n      <td>0</td>\n      <td>0</td>\n      <td>0</td>\n      <td>0</td>\n      <td>0</td>\n      <td>0</td>\n      <td>0</td>\n      <td>1</td>\n      <td>1</td>\n      <td>0</td>\n      <td>0</td>\n    </tr>\n    <tr>\n      <th>17</th>\n      <td>1</td>\n      <td>2</td>\n      <td>30.740707</td>\n      <td>0</td>\n      <td>0</td>\n      <td>13.0000</td>\n      <td>1</td>\n      <td>0</td>\n      <td>1</td>\n      <td>0</td>\n      <td>0</td>\n      <td>0</td>\n      <td>1</td>\n      <td>0</td>\n      <td>0</td>\n      <td>0</td>\n      <td>0</td>\n      <td>0</td>\n      <td>0</td>\n      <td>0</td>\n      <td>1</td>\n      <td>0</td>\n      <td>1</td>\n      <td>0</td>\n    </tr>\n    <tr>\n      <th>18</th>\n      <td>0</td>\n      <td>3</td>\n      <td>31.000000</td>\n      <td>1</td>\n      <td>0</td>\n      <td>18.0000</td>\n      <td>0</td>\n      <td>0</td>\n      <td>0</td>\n      <td>1</td>\n      <td>0</td>\n      <td>0</td>\n      <td>0</td>\n      <td>0</td>\n      <td>0</td>\n      <td>0</td>\n      <td>0</td>\n      <td>0</td>\n      <td>0</td>\n      <td>0</td>\n      <td>1</td>\n      <td>0</td>\n      <td>1</td>\n      <td>0</td>\n    </tr>\n    <tr>\n      <th>19</th>\n      <td>1</td>\n      <td>3</td>\n      <td>21.750000</td>\n      <td>0</td>\n      <td>0</td>\n      <td>7.2250</td>\n      <td>1</td>\n      <td>0</td>\n      <td>0</td>\n      <td>1</td>\n      <td>0</td>\n      <td>0</td>\n      <td>0</td>\n      <td>0</td>\n      <td>0</td>\n      <td>0</td>\n      <td>0</td>\n      <td>0</td>\n      <td>0</td>\n      <td>0</td>\n      <td>1</td>\n      <td>0</td>\n      <td>0</td>\n      <td>0</td>\n    </tr>\n    <tr>\n      <th>20</th>\n      <td>0</td>\n      <td>2</td>\n      <td>35.000000</td>\n      <td>0</td>\n      <td>0</td>\n      <td>26.0000</td>\n      <td>1</td>\n      <td>0</td>\n      <td>1</td>\n      <td>0</td>\n      <td>0</td>\n      <td>0</td>\n      <td>1</td>\n      <td>0</td>\n      <td>0</td>\n      <td>0</td>\n      <td>0</td>\n      <td>0</td>\n      <td>0</td>\n      <td>0</td>\n      <td>1</td>\n      <td>0</td>\n      <td>1</td>\n      <td>0</td>\n    </tr>\n    <tr>\n      <th>21</th>\n      <td>1</td>\n      <td>2</td>\n      <td>34.000000</td>\n      <td>0</td>\n      <td>0</td>\n      <td>13.0000</td>\n      <td>1</td>\n      <td>0</td>\n      <td>1</td>\n      <td>0</td>\n      <td>0</td>\n      <td>0</td>\n      <td>1</td>\n      <td>0</td>\n      <td>0</td>\n      <td>1</td>\n      <td>0</td>\n      <td>0</td>\n      <td>0</td>\n      <td>0</td>\n      <td>0</td>\n      <td>0</td>\n      <td>1</td>\n      <td>0</td>\n    </tr>\n    <tr>\n      <th>22</th>\n      <td>1</td>\n      <td>3</td>\n      <td>15.000000</td>\n      <td>0</td>\n      <td>0</td>\n      <td>8.0292</td>\n      <td>1</td>\n      <td>1</td>\n      <td>0</td>\n      <td>0</td>\n      <td>0</td>\n      <td>0</td>\n      <td>0</td>\n      <td>0</td>\n      <td>0</td>\n      <td>0</td>\n      <td>0</td>\n      <td>0</td>\n      <td>0</td>\n      <td>0</td>\n      <td>1</td>\n      <td>1</td>\n      <td>0</td>\n      <td>0</td>\n    </tr>\n    <tr>\n      <th>23</th>\n      <td>1</td>\n      <td>1</td>\n      <td>28.000000</td>\n      <td>0</td>\n      <td>0</td>\n      <td>35.5000</td>\n      <td>1</td>\n      <td>0</td>\n      <td>1</td>\n      <td>0</td>\n      <td>0</td>\n      <td>0</td>\n      <td>1</td>\n      <td>0</td>\n      <td>0</td>\n      <td>0</td>\n      <td>0</td>\n      <td>0</td>\n      <td>0</td>\n      <td>0</td>\n      <td>0</td>\n      <td>0</td>\n      <td>1</td>\n      <td>0</td>\n    </tr>\n    <tr>\n      <th>24</th>\n      <td>0</td>\n      <td>3</td>\n      <td>8.000000</td>\n      <td>3</td>\n      <td>1</td>\n      <td>21.0750</td>\n      <td>0</td>\n      <td>1</td>\n      <td>0</td>\n      <td>0</td>\n      <td>0</td>\n      <td>0</td>\n      <td>0</td>\n      <td>0</td>\n      <td>0</td>\n      <td>0</td>\n      <td>0</td>\n      <td>0</td>\n      <td>0</td>\n      <td>0</td>\n      <td>1</td>\n      <td>0</td>\n      <td>1</td>\n      <td>0</td>\n    </tr>\n    <tr>\n      <th>25</th>\n      <td>1</td>\n      <td>3</td>\n      <td>38.000000</td>\n      <td>1</td>\n      <td>5</td>\n      <td>31.3875</td>\n      <td>0</td>\n      <td>0</td>\n      <td>0</td>\n      <td>1</td>\n      <td>0</td>\n      <td>0</td>\n      <td>0</td>\n      <td>0</td>\n      <td>0</td>\n      <td>0</td>\n      <td>0</td>\n      <td>0</td>\n      <td>0</td>\n      <td>0</td>\n      <td>1</td>\n      <td>0</td>\n      <td>1</td>\n      <td>0</td>\n    </tr>\n    <tr>\n      <th>26</th>\n      <td>0</td>\n      <td>3</td>\n      <td>26.507589</td>\n      <td>0</td>\n      <td>0</td>\n      <td>7.2250</td>\n      <td>1</td>\n      <td>0</td>\n      <td>1</td>\n      <td>0</td>\n      <td>0</td>\n      <td>0</td>\n      <td>1</td>\n      <td>0</td>\n      <td>0</td>\n      <td>0</td>\n      <td>0</td>\n      <td>0</td>\n      <td>0</td>\n      <td>0</td>\n      <td>1</td>\n      <td>0</td>\n      <td>0</td>\n      <td>0</td>\n    </tr>\n    <tr>\n      <th>27</th>\n      <td>0</td>\n      <td>1</td>\n      <td>19.000000</td>\n      <td>3</td>\n      <td>2</td>\n      <td>263.0000</td>\n      <td>0</td>\n      <td>0</td>\n      <td>1</td>\n      <td>0</td>\n      <td>0</td>\n      <td>0</td>\n      <td>1</td>\n      <td>0</td>\n      <td>1</td>\n      <td>0</td>\n      <td>0</td>\n      <td>0</td>\n      <td>0</td>\n      <td>0</td>\n      <td>0</td>\n      <td>0</td>\n      <td>1</td>\n      <td>0</td>\n    </tr>\n    <tr>\n      <th>28</th>\n      <td>1</td>\n      <td>3</td>\n      <td>21.750000</td>\n      <td>0</td>\n      <td>0</td>\n      <td>7.8792</td>\n      <td>1</td>\n      <td>1</td>\n      <td>0</td>\n      <td>0</td>\n      <td>0</td>\n      <td>0</td>\n      <td>0</td>\n      <td>0</td>\n      <td>0</td>\n      <td>0</td>\n      <td>0</td>\n      <td>0</td>\n      <td>0</td>\n      <td>0</td>\n      <td>1</td>\n      <td>1</td>\n      <td>0</td>\n      <td>0</td>\n    </tr>\n    <tr>\n      <th>29</th>\n      <td>0</td>\n      <td>3</td>\n      <td>26.507589</td>\n      <td>0</td>\n      <td>0</td>\n      <td>7.8958</td>\n      <td>1</td>\n      <td>0</td>\n      <td>1</td>\n      <td>0</td>\n      <td>0</td>\n      <td>0</td>\n      <td>1</td>\n      <td>0</td>\n      <td>0</td>\n      <td>0</td>\n      <td>0</td>\n      <td>0</td>\n      <td>0</td>\n      <td>0</td>\n      <td>1</td>\n      <td>0</td>\n      <td>1</td>\n      <td>0</td>\n    </tr>\n    <tr>\n      <th>...</th>\n      <td>...</td>\n      <td>...</td>\n      <td>...</td>\n      <td>...</td>\n      <td>...</td>\n      <td>...</td>\n      <td>...</td>\n      <td>...</td>\n      <td>...</td>\n      <td>...</td>\n      <td>...</td>\n      <td>...</td>\n      <td>...</td>\n      <td>...</td>\n      <td>...</td>\n      <td>...</td>\n      <td>...</td>\n      <td>...</td>\n      <td>...</td>\n      <td>...</td>\n      <td>...</td>\n      <td>...</td>\n      <td>...</td>\n      <td>...</td>\n    </tr>\n    <tr>\n      <th>861</th>\n      <td>0</td>\n      <td>2</td>\n      <td>21.000000</td>\n      <td>1</td>\n      <td>0</td>\n      <td>11.5000</td>\n      <td>0</td>\n      <td>0</td>\n      <td>1</td>\n      <td>0</td>\n      <td>0</td>\n      <td>0</td>\n      <td>1</td>\n      <td>0</td>\n      <td>0</td>\n      <td>0</td>\n      <td>0</td>\n      <td>0</td>\n      <td>0</td>\n      <td>0</td>\n      <td>1</td>\n      <td>0</td>\n      <td>1</td>\n      <td>0</td>\n    </tr>\n    <tr>\n      <th>862</th>\n      <td>1</td>\n      <td>1</td>\n      <td>48.000000</td>\n      <td>0</td>\n      <td>0</td>\n      <td>25.9292</td>\n      <td>1</td>\n      <td>0</td>\n      <td>0</td>\n      <td>1</td>\n      <td>0</td>\n      <td>0</td>\n      <td>0</td>\n      <td>0</td>\n      <td>0</td>\n      <td>1</td>\n      <td>0</td>\n      <td>0</td>\n      <td>0</td>\n      <td>0</td>\n      <td>0</td>\n      <td>0</td>\n      <td>1</td>\n      <td>0</td>\n    </tr>\n    <tr>\n      <th>863</th>\n      <td>0</td>\n      <td>3</td>\n      <td>21.750000</td>\n      <td>8</td>\n      <td>2</td>\n      <td>69.5500</td>\n      <td>0</td>\n      <td>1</td>\n      <td>0</td>\n      <td>0</td>\n      <td>0</td>\n      <td>0</td>\n      <td>0</td>\n      <td>0</td>\n      <td>0</td>\n      <td>0</td>\n      <td>0</td>\n      <td>0</td>\n      <td>0</td>\n      <td>0</td>\n      <td>1</td>\n      <td>0</td>\n      <td>1</td>\n      <td>0</td>\n    </tr>\n    <tr>\n      <th>864</th>\n      <td>0</td>\n      <td>2</td>\n      <td>24.000000</td>\n      <td>0</td>\n      <td>0</td>\n      <td>13.0000</td>\n      <td>1</td>\n      <td>0</td>\n      <td>1</td>\n      <td>0</td>\n      <td>0</td>\n      <td>0</td>\n      <td>1</td>\n      <td>0</td>\n      <td>0</td>\n      <td>0</td>\n      <td>0</td>\n      <td>0</td>\n      <td>0</td>\n      <td>0</td>\n      <td>1</td>\n      <td>0</td>\n      <td>1</td>\n      <td>0</td>\n    </tr>\n    <tr>\n      <th>865</th>\n      <td>1</td>\n      <td>2</td>\n      <td>42.000000</td>\n      <td>0</td>\n      <td>0</td>\n      <td>13.0000</td>\n      <td>1</td>\n      <td>0</td>\n      <td>0</td>\n      <td>1</td>\n      <td>0</td>\n      <td>0</td>\n      <td>0</td>\n      <td>0</td>\n      <td>0</td>\n      <td>0</td>\n      <td>0</td>\n      <td>0</td>\n      <td>0</td>\n      <td>0</td>\n      <td>1</td>\n      <td>0</td>\n      <td>1</td>\n      <td>0</td>\n    </tr>\n    <tr>\n      <th>866</th>\n      <td>1</td>\n      <td>2</td>\n      <td>27.000000</td>\n      <td>1</td>\n      <td>0</td>\n      <td>13.8583</td>\n      <td>0</td>\n      <td>1</td>\n      <td>0</td>\n      <td>0</td>\n      <td>0</td>\n      <td>0</td>\n      <td>0</td>\n      <td>0</td>\n      <td>0</td>\n      <td>0</td>\n      <td>0</td>\n      <td>0</td>\n      <td>0</td>\n      <td>0</td>\n      <td>1</td>\n      <td>0</td>\n      <td>0</td>\n      <td>0</td>\n    </tr>\n    <tr>\n      <th>867</th>\n      <td>0</td>\n      <td>1</td>\n      <td>31.000000</td>\n      <td>0</td>\n      <td>0</td>\n      <td>50.4958</td>\n      <td>1</td>\n      <td>0</td>\n      <td>1</td>\n      <td>0</td>\n      <td>0</td>\n      <td>0</td>\n      <td>1</td>\n      <td>0</td>\n      <td>0</td>\n      <td>0</td>\n      <td>0</td>\n      <td>0</td>\n      <td>0</td>\n      <td>0</td>\n      <td>0</td>\n      <td>0</td>\n      <td>1</td>\n      <td>0</td>\n    </tr>\n    <tr>\n      <th>868</th>\n      <td>0</td>\n      <td>3</td>\n      <td>26.507589</td>\n      <td>0</td>\n      <td>0</td>\n      <td>9.5000</td>\n      <td>1</td>\n      <td>0</td>\n      <td>1</td>\n      <td>0</td>\n      <td>0</td>\n      <td>0</td>\n      <td>1</td>\n      <td>0</td>\n      <td>0</td>\n      <td>0</td>\n      <td>0</td>\n      <td>0</td>\n      <td>0</td>\n      <td>0</td>\n      <td>1</td>\n      <td>0</td>\n      <td>1</td>\n      <td>0</td>\n    </tr>\n    <tr>\n      <th>869</th>\n      <td>1</td>\n      <td>3</td>\n      <td>4.000000</td>\n      <td>1</td>\n      <td>1</td>\n      <td>11.1333</td>\n      <td>0</td>\n      <td>0</td>\n      <td>0</td>\n      <td>0</td>\n      <td>0</td>\n      <td>0</td>\n      <td>1</td>\n      <td>0</td>\n      <td>0</td>\n      <td>0</td>\n      <td>0</td>\n      <td>0</td>\n      <td>0</td>\n      <td>0</td>\n      <td>1</td>\n      <td>0</td>\n      <td>1</td>\n      <td>0</td>\n    </tr>\n    <tr>\n      <th>870</th>\n      <td>0</td>\n      <td>3</td>\n      <td>26.000000</td>\n      <td>0</td>\n      <td>0</td>\n      <td>7.8958</td>\n      <td>1</td>\n      <td>0</td>\n      <td>1</td>\n      <td>0</td>\n      <td>0</td>\n      <td>0</td>\n      <td>1</td>\n      <td>0</td>\n      <td>0</td>\n      <td>0</td>\n      <td>0</td>\n      <td>0</td>\n      <td>0</td>\n      <td>0</td>\n      <td>1</td>\n      <td>0</td>\n      <td>1</td>\n      <td>0</td>\n    </tr>\n    <tr>\n      <th>871</th>\n      <td>1</td>\n      <td>1</td>\n      <td>47.000000</td>\n      <td>1</td>\n      <td>1</td>\n      <td>52.5542</td>\n      <td>0</td>\n      <td>0</td>\n      <td>0</td>\n      <td>1</td>\n      <td>0</td>\n      <td>0</td>\n      <td>0</td>\n      <td>0</td>\n      <td>0</td>\n      <td>1</td>\n      <td>0</td>\n      <td>0</td>\n      <td>0</td>\n      <td>0</td>\n      <td>0</td>\n      <td>0</td>\n      <td>1</td>\n      <td>0</td>\n    </tr>\n    <tr>\n      <th>872</th>\n      <td>0</td>\n      <td>1</td>\n      <td>33.000000</td>\n      <td>0</td>\n      <td>0</td>\n      <td>5.0000</td>\n      <td>1</td>\n      <td>0</td>\n      <td>1</td>\n      <td>0</td>\n      <td>0</td>\n      <td>0</td>\n      <td>1</td>\n      <td>1</td>\n      <td>0</td>\n      <td>0</td>\n      <td>0</td>\n      <td>0</td>\n      <td>0</td>\n      <td>0</td>\n      <td>0</td>\n      <td>0</td>\n      <td>1</td>\n      <td>0</td>\n    </tr>\n    <tr>\n      <th>873</th>\n      <td>0</td>\n      <td>3</td>\n      <td>47.000000</td>\n      <td>0</td>\n      <td>0</td>\n      <td>9.0000</td>\n      <td>1</td>\n      <td>0</td>\n      <td>1</td>\n      <td>0</td>\n      <td>0</td>\n      <td>0</td>\n      <td>1</td>\n      <td>0</td>\n      <td>0</td>\n      <td>0</td>\n      <td>0</td>\n      <td>0</td>\n      <td>0</td>\n      <td>0</td>\n      <td>1</td>\n      <td>0</td>\n      <td>1</td>\n      <td>0</td>\n    </tr>\n    <tr>\n      <th>874</th>\n      <td>1</td>\n      <td>2</td>\n      <td>28.000000</td>\n      <td>1</td>\n      <td>0</td>\n      <td>24.0000</td>\n      <td>0</td>\n      <td>0</td>\n      <td>0</td>\n      <td>1</td>\n      <td>0</td>\n      <td>0</td>\n      <td>0</td>\n      <td>0</td>\n      <td>0</td>\n      <td>0</td>\n      <td>0</td>\n      <td>0</td>\n      <td>0</td>\n      <td>0</td>\n      <td>1</td>\n      <td>0</td>\n      <td>0</td>\n      <td>0</td>\n    </tr>\n    <tr>\n      <th>875</th>\n      <td>1</td>\n      <td>3</td>\n      <td>15.000000</td>\n      <td>0</td>\n      <td>0</td>\n      <td>7.2250</td>\n      <td>1</td>\n      <td>1</td>\n      <td>0</td>\n      <td>0</td>\n      <td>0</td>\n      <td>0</td>\n      <td>0</td>\n      <td>0</td>\n      <td>0</td>\n      <td>0</td>\n      <td>0</td>\n      <td>0</td>\n      <td>0</td>\n      <td>0</td>\n      <td>1</td>\n      <td>0</td>\n      <td>0</td>\n      <td>0</td>\n    </tr>\n    <tr>\n      <th>876</th>\n      <td>0</td>\n      <td>3</td>\n      <td>20.000000</td>\n      <td>0</td>\n      <td>0</td>\n      <td>9.8458</td>\n      <td>1</td>\n      <td>0</td>\n      <td>1</td>\n      <td>0</td>\n      <td>0</td>\n      <td>0</td>\n      <td>1</td>\n      <td>0</td>\n      <td>0</td>\n      <td>0</td>\n      <td>0</td>\n      <td>0</td>\n      <td>0</td>\n      <td>0</td>\n      <td>1</td>\n      <td>0</td>\n      <td>1</td>\n      <td>0</td>\n    </tr>\n    <tr>\n      <th>877</th>\n      <td>0</td>\n      <td>3</td>\n      <td>19.000000</td>\n      <td>0</td>\n      <td>0</td>\n      <td>7.8958</td>\n      <td>1</td>\n      <td>0</td>\n      <td>1</td>\n      <td>0</td>\n      <td>0</td>\n      <td>0</td>\n      <td>1</td>\n      <td>0</td>\n      <td>0</td>\n      <td>0</td>\n      <td>0</td>\n      <td>0</td>\n      <td>0</td>\n      <td>0</td>\n      <td>1</td>\n      <td>0</td>\n      <td>1</td>\n      <td>0</td>\n    </tr>\n    <tr>\n      <th>878</th>\n      <td>0</td>\n      <td>3</td>\n      <td>26.507589</td>\n      <td>0</td>\n      <td>0</td>\n      <td>7.8958</td>\n      <td>1</td>\n      <td>0</td>\n      <td>1</td>\n      <td>0</td>\n      <td>0</td>\n      <td>0</td>\n      <td>1</td>\n      <td>0</td>\n      <td>0</td>\n      <td>0</td>\n      <td>0</td>\n      <td>0</td>\n      <td>0</td>\n      <td>0</td>\n      <td>1</td>\n      <td>0</td>\n      <td>1</td>\n      <td>0</td>\n    </tr>\n    <tr>\n      <th>879</th>\n      <td>1</td>\n      <td>1</td>\n      <td>56.000000</td>\n      <td>0</td>\n      <td>1</td>\n      <td>83.1583</td>\n      <td>0</td>\n      <td>0</td>\n      <td>0</td>\n      <td>1</td>\n      <td>0</td>\n      <td>0</td>\n      <td>0</td>\n      <td>0</td>\n      <td>1</td>\n      <td>0</td>\n      <td>0</td>\n      <td>0</td>\n      <td>0</td>\n      <td>0</td>\n      <td>0</td>\n      <td>0</td>\n      <td>0</td>\n      <td>0</td>\n    </tr>\n    <tr>\n      <th>880</th>\n      <td>1</td>\n      <td>2</td>\n      <td>25.000000</td>\n      <td>0</td>\n      <td>1</td>\n      <td>26.0000</td>\n      <td>0</td>\n      <td>0</td>\n      <td>0</td>\n      <td>1</td>\n      <td>0</td>\n      <td>0</td>\n      <td>0</td>\n      <td>0</td>\n      <td>0</td>\n      <td>0</td>\n      <td>0</td>\n      <td>0</td>\n      <td>0</td>\n      <td>0</td>\n      <td>1</td>\n      <td>0</td>\n      <td>1</td>\n      <td>0</td>\n    </tr>\n    <tr>\n      <th>881</th>\n      <td>0</td>\n      <td>3</td>\n      <td>33.000000</td>\n      <td>0</td>\n      <td>0</td>\n      <td>7.8958</td>\n      <td>1</td>\n      <td>0</td>\n      <td>1</td>\n      <td>0</td>\n      <td>0</td>\n      <td>0</td>\n      <td>1</td>\n      <td>0</td>\n      <td>0</td>\n      <td>0</td>\n      <td>0</td>\n      <td>0</td>\n      <td>0</td>\n      <td>0</td>\n      <td>1</td>\n      <td>0</td>\n      <td>1</td>\n      <td>0</td>\n    </tr>\n    <tr>\n      <th>882</th>\n      <td>0</td>\n      <td>3</td>\n      <td>22.000000</td>\n      <td>0</td>\n      <td>0</td>\n      <td>10.5167</td>\n      <td>1</td>\n      <td>1</td>\n      <td>0</td>\n      <td>0</td>\n      <td>0</td>\n      <td>0</td>\n      <td>0</td>\n      <td>0</td>\n      <td>0</td>\n      <td>0</td>\n      <td>0</td>\n      <td>0</td>\n      <td>0</td>\n      <td>0</td>\n      <td>1</td>\n      <td>0</td>\n      <td>1</td>\n      <td>0</td>\n    </tr>\n    <tr>\n      <th>883</th>\n      <td>0</td>\n      <td>2</td>\n      <td>28.000000</td>\n      <td>0</td>\n      <td>0</td>\n      <td>10.5000</td>\n      <td>1</td>\n      <td>0</td>\n      <td>1</td>\n      <td>0</td>\n      <td>0</td>\n      <td>0</td>\n      <td>1</td>\n      <td>0</td>\n      <td>0</td>\n      <td>0</td>\n      <td>0</td>\n      <td>0</td>\n      <td>0</td>\n      <td>0</td>\n      <td>1</td>\n      <td>0</td>\n      <td>1</td>\n      <td>0</td>\n    </tr>\n    <tr>\n      <th>884</th>\n      <td>0</td>\n      <td>3</td>\n      <td>25.000000</td>\n      <td>0</td>\n      <td>0</td>\n      <td>7.0500</td>\n      <td>1</td>\n      <td>0</td>\n      <td>1</td>\n      <td>0</td>\n      <td>0</td>\n      <td>0</td>\n      <td>1</td>\n      <td>0</td>\n      <td>0</td>\n      <td>0</td>\n      <td>0</td>\n      <td>0</td>\n      <td>0</td>\n      <td>0</td>\n      <td>1</td>\n      <td>0</td>\n      <td>1</td>\n      <td>0</td>\n    </tr>\n    <tr>\n      <th>885</th>\n      <td>0</td>\n      <td>3</td>\n      <td>39.000000</td>\n      <td>0</td>\n      <td>5</td>\n      <td>29.1250</td>\n      <td>0</td>\n      <td>0</td>\n      <td>0</td>\n      <td>1</td>\n      <td>0</td>\n      <td>0</td>\n      <td>0</td>\n      <td>0</td>\n      <td>0</td>\n      <td>0</td>\n      <td>0</td>\n      <td>0</td>\n      <td>0</td>\n      <td>0</td>\n      <td>1</td>\n      <td>1</td>\n      <td>0</td>\n      <td>0</td>\n    </tr>\n    <tr>\n      <th>886</th>\n      <td>0</td>\n      <td>2</td>\n      <td>27.000000</td>\n      <td>0</td>\n      <td>0</td>\n      <td>13.0000</td>\n      <td>1</td>\n      <td>0</td>\n      <td>0</td>\n      <td>0</td>\n      <td>0</td>\n      <td>1</td>\n      <td>1</td>\n      <td>0</td>\n      <td>0</td>\n      <td>0</td>\n      <td>0</td>\n      <td>0</td>\n      <td>0</td>\n      <td>0</td>\n      <td>1</td>\n      <td>0</td>\n      <td>1</td>\n      <td>0</td>\n    </tr>\n    <tr>\n      <th>887</th>\n      <td>1</td>\n      <td>1</td>\n      <td>19.000000</td>\n      <td>0</td>\n      <td>0</td>\n      <td>30.0000</td>\n      <td>1</td>\n      <td>1</td>\n      <td>0</td>\n      <td>0</td>\n      <td>0</td>\n      <td>0</td>\n      <td>0</td>\n      <td>1</td>\n      <td>0</td>\n      <td>0</td>\n      <td>0</td>\n      <td>0</td>\n      <td>0</td>\n      <td>0</td>\n      <td>0</td>\n      <td>0</td>\n      <td>1</td>\n      <td>0</td>\n    </tr>\n    <tr>\n      <th>888</th>\n      <td>0</td>\n      <td>3</td>\n      <td>21.750000</td>\n      <td>1</td>\n      <td>2</td>\n      <td>23.4500</td>\n      <td>0</td>\n      <td>1</td>\n      <td>0</td>\n      <td>0</td>\n      <td>0</td>\n      <td>0</td>\n      <td>0</td>\n      <td>0</td>\n      <td>0</td>\n      <td>0</td>\n      <td>0</td>\n      <td>0</td>\n      <td>0</td>\n      <td>0</td>\n      <td>1</td>\n      <td>0</td>\n      <td>1</td>\n      <td>0</td>\n    </tr>\n    <tr>\n      <th>889</th>\n      <td>1</td>\n      <td>1</td>\n      <td>26.000000</td>\n      <td>0</td>\n      <td>0</td>\n      <td>30.0000</td>\n      <td>1</td>\n      <td>0</td>\n      <td>1</td>\n      <td>0</td>\n      <td>0</td>\n      <td>0</td>\n      <td>1</td>\n      <td>0</td>\n      <td>1</td>\n      <td>0</td>\n      <td>0</td>\n      <td>0</td>\n      <td>0</td>\n      <td>0</td>\n      <td>0</td>\n      <td>0</td>\n      <td>0</td>\n      <td>0</td>\n    </tr>\n    <tr>\n      <th>890</th>\n      <td>0</td>\n      <td>3</td>\n      <td>32.000000</td>\n      <td>0</td>\n      <td>0</td>\n      <td>7.7500</td>\n      <td>1</td>\n      <td>0</td>\n      <td>1</td>\n      <td>0</td>\n      <td>0</td>\n      <td>0</td>\n      <td>1</td>\n      <td>0</td>\n      <td>0</td>\n      <td>0</td>\n      <td>0</td>\n      <td>0</td>\n      <td>0</td>\n      <td>0</td>\n      <td>1</td>\n      <td>1</td>\n      <td>0</td>\n      <td>0</td>\n    </tr>\n  </tbody>\n</table>\n<p>891 rows × 24 columns</p>\n</div>"
          },
          "metadata": {}
        }
      ]
    },
    {
      "metadata": {
        "trusted": true,
        "_uuid": "ae4374eccaf37af6598bccd215aaa28639a606d9"
      },
      "cell_type": "code",
      "source": "y = dataset.Survived\nX = dataset.loc[:, ~dataset.columns.isin([\"Survived\", \"SibSp\", \"Parch\"])]",
      "execution_count": 364,
      "outputs": []
    },
    {
      "metadata": {
        "trusted": true,
        "_uuid": "96b9bd5f34d710840e7c59c86775d7dbaf604d97"
      },
      "cell_type": "code",
      "source": "from sklearn.preprocessing import StandardScaler\nsc_x = StandardScaler()\nX = sc_x.fit_transform(X)",
      "execution_count": 365,
      "outputs": [
        {
          "output_type": "stream",
          "text": "/opt/conda/lib/python3.6/site-packages/sklearn/preprocessing/data.py:625: DataConversionWarning: Data with input dtype uint8, int64, float64 were all converted to float64 by StandardScaler.\n  return self.partial_fit(X, y)\n/opt/conda/lib/python3.6/site-packages/sklearn/base.py:462: DataConversionWarning: Data with input dtype uint8, int64, float64 were all converted to float64 by StandardScaler.\n  return self.fit(X, **fit_params).transform(X)\n",
          "name": "stderr"
        }
      ]
    },
    {
      "metadata": {
        "trusted": true,
        "_uuid": "d2d471cfcf777140bbe38e4cfba3d9a1a51387c4"
      },
      "cell_type": "code",
      "source": "from sklearn.model_selection import train_test_split\nX_train, X_test, y_train, y_test = train_test_split(X, \n                                                    y,\n                                                    test_size=0.25,\n                                                    random_state=0\n                                                    )",
      "execution_count": 366,
      "outputs": []
    },
    {
      "metadata": {
        "trusted": true,
        "_uuid": "0bee8412ee2e496316bf0699102960d5c5d49dd6"
      },
      "cell_type": "code",
      "source": "from sklearn.linear_model import LogisticRegression\nclassifier = LogisticRegression()\nclassifier.fit(X_train, y_train)",
      "execution_count": 367,
      "outputs": [
        {
          "output_type": "stream",
          "text": "/opt/conda/lib/python3.6/site-packages/sklearn/linear_model/logistic.py:433: FutureWarning: Default solver will be changed to 'lbfgs' in 0.22. Specify a solver to silence this warning.\n  FutureWarning)\n",
          "name": "stderr"
        },
        {
          "output_type": "execute_result",
          "execution_count": 367,
          "data": {
            "text/plain": "LogisticRegression(C=1.0, class_weight=None, dual=False, fit_intercept=True,\n          intercept_scaling=1, max_iter=100, multi_class='warn',\n          n_jobs=None, penalty='l2', random_state=None, solver='warn',\n          tol=0.0001, verbose=0, warm_start=False)"
          },
          "metadata": {}
        }
      ]
    },
    {
      "metadata": {
        "trusted": true,
        "_uuid": "4db9eaaba9599a76f130f1d970f659a6efd1072e"
      },
      "cell_type": "code",
      "source": "classifier.score(X_test,y_test)",
      "execution_count": 368,
      "outputs": [
        {
          "output_type": "execute_result",
          "execution_count": 368,
          "data": {
            "text/plain": "0.8026905829596412"
          },
          "metadata": {}
        }
      ]
    },
    {
      "metadata": {
        "trusted": true,
        "_uuid": "677f0ff1d68bc7d13a942691ea09633adae35e6c"
      },
      "cell_type": "code",
      "source": "classifier.score(X_train, y_train)",
      "execution_count": 369,
      "outputs": [
        {
          "output_type": "execute_result",
          "execution_count": 369,
          "data": {
            "text/plain": "0.8248502994011976"
          },
          "metadata": {}
        }
      ]
    },
    {
      "metadata": {
        "trusted": true,
        "_uuid": "d0f1182c1aa1d9ffa65cb6c97fb2d42dac5ff7b5"
      },
      "cell_type": "code",
      "source": "",
      "execution_count": null,
      "outputs": []
    }
  ],
  "metadata": {
    "kernelspec": {
      "display_name": "Python 3",
      "language": "python",
      "name": "python3"
    },
    "language_info": {
      "name": "python",
      "version": "3.6.6",
      "mimetype": "text/x-python",
      "codemirror_mode": {
        "name": "ipython",
        "version": 3
      },
      "pygments_lexer": "ipython3",
      "nbconvert_exporter": "python",
      "file_extension": ".py"
    }
  },
  "nbformat": 4,
  "nbformat_minor": 1
}